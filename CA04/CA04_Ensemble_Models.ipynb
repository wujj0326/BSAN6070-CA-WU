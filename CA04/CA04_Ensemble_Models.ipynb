{
  "nbformat": 4,
  "nbformat_minor": 0,
  "metadata": {
    "colab": {
      "name": "CA04-Ensemble_Models.ipynb",
      "provenance": [],
      "collapsed_sections": [],
      "authorship_tag": "ABX9TyOk1q4/6Mz8VfvAxizYfSKs"
    },
    "kernelspec": {
      "name": "python3",
      "display_name": "Python 3"
    }
  },
  "cells": [
    {
      "cell_type": "markdown",
      "metadata": {
        "id": "XiL7WzWlAAv3",
        "colab_type": "text"
      },
      "source": [
        "# CA04 – Ensemble Models\n",
        "## Eric Wu"
      ]
    },
    {
      "cell_type": "markdown",
      "metadata": {
        "id": "ZXA28-g0AO47",
        "colab_type": "text"
      },
      "source": [
        "## Import Basic Packages"
      ]
    },
    {
      "cell_type": "code",
      "metadata": {
        "id": "cWaT5Lj3_9iN",
        "colab_type": "code",
        "colab": {}
      },
      "source": [
        "import numpy as np\n",
        "import pandas as pd \n",
        "import matplotlib.pyplot as plt\n",
        "plt.style.use('ggplot')"
      ],
      "execution_count": 0,
      "outputs": []
    },
    {
      "cell_type": "markdown",
      "metadata": {
        "id": "0TTPJ6TyAxD9",
        "colab_type": "text"
      },
      "source": [
        "## Read Data"
      ]
    },
    {
      "cell_type": "code",
      "metadata": {
        "id": "4RFDZftNAwVz",
        "colab_type": "code",
        "outputId": "f485ccde-cc6c-4ec2-9146-1c45b4821f82",
        "colab": {
          "base_uri": "https://localhost:8080/",
          "height": 195
        }
      },
      "source": [
        "census = pd.read_csv('https://github.com/ArinB/MSBA-CA-03-Decision-Trees/blob/master/census_data.csv?raw=true')\n",
        "census.head()"
      ],
      "execution_count": 2,
      "outputs": [
        {
          "output_type": "execute_result",
          "data": {
            "text/html": [
              "<div>\n",
              "<style scoped>\n",
              "    .dataframe tbody tr th:only-of-type {\n",
              "        vertical-align: middle;\n",
              "    }\n",
              "\n",
              "    .dataframe tbody tr th {\n",
              "        vertical-align: top;\n",
              "    }\n",
              "\n",
              "    .dataframe thead th {\n",
              "        text-align: right;\n",
              "    }\n",
              "</style>\n",
              "<table border=\"1\" class=\"dataframe\">\n",
              "  <thead>\n",
              "    <tr style=\"text-align: right;\">\n",
              "      <th></th>\n",
              "      <th>hours_per_week_bin</th>\n",
              "      <th>occupation_bin</th>\n",
              "      <th>msr_bin</th>\n",
              "      <th>capital_gl_bin</th>\n",
              "      <th>race_sex_bin</th>\n",
              "      <th>education_num_bin</th>\n",
              "      <th>education_bin</th>\n",
              "      <th>workclass_bin</th>\n",
              "      <th>age_bin</th>\n",
              "      <th>flag</th>\n",
              "      <th>y</th>\n",
              "    </tr>\n",
              "  </thead>\n",
              "  <tbody>\n",
              "    <tr>\n",
              "      <th>0</th>\n",
              "      <td>b. 31-40</td>\n",
              "      <td>b. Mid - Low</td>\n",
              "      <td>b. Mid</td>\n",
              "      <td>c. &gt; 0</td>\n",
              "      <td>c. High</td>\n",
              "      <td>c. 13</td>\n",
              "      <td>c. Bachelors</td>\n",
              "      <td>b. income</td>\n",
              "      <td>d. 36-40 &amp; 56-60</td>\n",
              "      <td>train</td>\n",
              "      <td>0</td>\n",
              "    </tr>\n",
              "    <tr>\n",
              "      <th>1</th>\n",
              "      <td>a. 0-30</td>\n",
              "      <td>e. High</td>\n",
              "      <td>c. High</td>\n",
              "      <td>a. = 0</td>\n",
              "      <td>c. High</td>\n",
              "      <td>c. 13</td>\n",
              "      <td>c. Bachelors</td>\n",
              "      <td>b. income</td>\n",
              "      <td>e. 40-55</td>\n",
              "      <td>train</td>\n",
              "      <td>0</td>\n",
              "    </tr>\n",
              "    <tr>\n",
              "      <th>2</th>\n",
              "      <td>b. 31-40</td>\n",
              "      <td>a. Low</td>\n",
              "      <td>b. Mid</td>\n",
              "      <td>a. = 0</td>\n",
              "      <td>c. High</td>\n",
              "      <td>b. 9-12</td>\n",
              "      <td>b. Mid</td>\n",
              "      <td>b. income</td>\n",
              "      <td>d. 36-40 &amp; 56-60</td>\n",
              "      <td>train</td>\n",
              "      <td>0</td>\n",
              "    </tr>\n",
              "    <tr>\n",
              "      <th>3</th>\n",
              "      <td>b. 31-40</td>\n",
              "      <td>a. Low</td>\n",
              "      <td>c. High</td>\n",
              "      <td>a. = 0</td>\n",
              "      <td>b. Mid</td>\n",
              "      <td>a. 0-8</td>\n",
              "      <td>a. Low</td>\n",
              "      <td>b. income</td>\n",
              "      <td>e. 40-55</td>\n",
              "      <td>train</td>\n",
              "      <td>0</td>\n",
              "    </tr>\n",
              "    <tr>\n",
              "      <th>4</th>\n",
              "      <td>b. 31-40</td>\n",
              "      <td>e. High</td>\n",
              "      <td>c. High</td>\n",
              "      <td>a. = 0</td>\n",
              "      <td>a. Low</td>\n",
              "      <td>c. 13</td>\n",
              "      <td>c. Bachelors</td>\n",
              "      <td>b. income</td>\n",
              "      <td>b. 26-30 &amp; 71-100</td>\n",
              "      <td>train</td>\n",
              "      <td>0</td>\n",
              "    </tr>\n",
              "  </tbody>\n",
              "</table>\n",
              "</div>"
            ],
            "text/plain": [
              "  hours_per_week_bin occupation_bin  msr_bin  ...            age_bin   flag  y\n",
              "0           b. 31-40   b. Mid - Low   b. Mid  ...   d. 36-40 & 56-60  train  0\n",
              "1            a. 0-30        e. High  c. High  ...           e. 40-55  train  0\n",
              "2           b. 31-40         a. Low   b. Mid  ...   d. 36-40 & 56-60  train  0\n",
              "3           b. 31-40         a. Low  c. High  ...           e. 40-55  train  0\n",
              "4           b. 31-40        e. High  c. High  ...  b. 26-30 & 71-100  train  0\n",
              "\n",
              "[5 rows x 11 columns]"
            ]
          },
          "metadata": {
            "tags": []
          },
          "execution_count": 2
        }
      ]
    },
    {
      "cell_type": "markdown",
      "metadata": {
        "id": "m19txjdtAKMu",
        "colab_type": "text"
      },
      "source": [
        "## Building a Random Forest Model"
      ]
    },
    {
      "cell_type": "code",
      "metadata": {
        "id": "XScAiA1EMIf1",
        "colab_type": "code",
        "colab": {}
      },
      "source": [
        "census.drop('education_num_bin',axis=1,inplace=True)"
      ],
      "execution_count": 0,
      "outputs": []
    },
    {
      "cell_type": "code",
      "metadata": {
        "id": "ADMGZVFrCCuF",
        "colab_type": "code",
        "colab": {}
      },
      "source": [
        "# split the data to train and test\n",
        "X_train = census.loc[census['flag']=='train',:'age_bin']\n",
        "y_train = census.loc[census['flag']=='train','y']\n",
        "# I reset the index so the index of test data could start from 0 instead of 32561 \n",
        "X_test = census.loc[census['flag']=='test',:'age_bin'].reset_index(drop=True)\n",
        "y_test = census.loc[census['flag']=='test','y'].reset_index(drop=True)"
      ],
      "execution_count": 0,
      "outputs": []
    },
    {
      "cell_type": "code",
      "metadata": {
        "id": "uAwjdbgmCQ81",
        "colab_type": "code",
        "colab": {}
      },
      "source": [
        "# Tranfrom the variables to dummies\n",
        "from sklearn.preprocessing import OneHotEncoder\n",
        "onehotencoder = OneHotEncoder(handle_unknown='error', drop='first')  \n",
        "X_train = onehotencoder.fit_transform(X_train).toarray() \n",
        "X_test = onehotencoder.transform(X_test).toarray()"
      ],
      "execution_count": 0,
      "outputs": []
    },
    {
      "cell_type": "code",
      "metadata": {
        "id": "Bt1fcSeREjVH",
        "colab_type": "code",
        "colab": {}
      },
      "source": [
        "from sklearn.ensemble import RandomForestClassifier\n",
        "result = []\n",
        "# a list of number that start from 50 and end with 500 with 10 intervals\n",
        "n_est = np.linspace(50,500,10,dtype=\"int\")\n",
        "for n in n_est:\n",
        "  rfc = RandomForestClassifier(n_estimators=n,random_state=101)\n",
        "  rfc.fit(X_train,y_train)\n",
        "  y_pred = rfc.predict(X_test)\n",
        "  accuracy = np.mean(y_test==y_pred)\n",
        "  result.append(accuracy)"
      ],
      "execution_count": 0,
      "outputs": []
    },
    {
      "cell_type": "code",
      "metadata": {
        "id": "PWaC4u63Nnht",
        "colab_type": "code",
        "outputId": "af74211a-59c3-4aa7-ae83-380650ac3ac1",
        "colab": {
          "base_uri": "https://localhost:8080/",
          "height": 282
        }
      },
      "source": [
        "# it seems like n_est = 500 has the highest accuracy\n",
        "plt.figure(figsize=(8,4))\n",
        "plt.plot(n_est,result,'-o',c='darkred')"
      ],
      "execution_count": 12,
      "outputs": [
        {
          "output_type": "execute_result",
          "data": {
            "text/plain": [
              "[<matplotlib.lines.Line2D at 0x7fbb85aa97b8>]"
            ]
          },
          "metadata": {
            "tags": []
          },
          "execution_count": 12
        },
        {
          "output_type": "display_data",
          "data": {
            "image/png": "[encoded data removed]",
            "text/plain": [
              "<Figure size 576x288 with 1 Axes>"
            ]
          },
          "metadata": {
            "tags": []
          }
        }
      ]
    },
    {
      "cell_type": "code",
      "metadata": {
        "id": "iNQb2BpIBKqO",
        "colab_type": "code",
        "outputId": "68d8fe90-efdd-4dcf-d221-f0f2c9eceee3",
        "colab": {
          "base_uri": "https://localhost:8080/",
          "height": 158
        }
      },
      "source": [
        "rfc = RandomForestClassifier(n_estimators=500,random_state=101)\n",
        "rfc.fit(X_train,y_train)"
      ],
      "execution_count": 45,
      "outputs": [
        {
          "output_type": "execute_result",
          "data": {
            "text/plain": [
              "RandomForestClassifier(bootstrap=True, ccp_alpha=0.0, class_weight=None,\n",
              "                       criterion='gini', max_depth=None, max_features='auto',\n",
              "                       max_leaf_nodes=None, max_samples=None,\n",
              "                       min_impurity_decrease=0.0, min_impurity_split=None,\n",
              "                       min_samples_leaf=1, min_samples_split=2,\n",
              "                       min_weight_fraction_leaf=0.0, n_estimators=500,\n",
              "                       n_jobs=None, oob_score=False, random_state=101,\n",
              "                       verbose=0, warm_start=False)"
            ]
          },
          "metadata": {
            "tags": []
          },
          "execution_count": 45
        }
      ]
    },
    {
      "cell_type": "code",
      "metadata": {
        "id": "AA3A8ooaCHLz",
        "colab_type": "code",
        "colab": {}
      },
      "source": [
        "y_pred = rfc.predict(X_test)"
      ],
      "execution_count": 0,
      "outputs": []
    },
    {
      "cell_type": "code",
      "metadata": {
        "id": "TpM2286RCj18",
        "colab_type": "code",
        "colab": {}
      },
      "source": [
        "from sklearn.metrics import accuracy_score, roc_curve, roc_auc_score"
      ],
      "execution_count": 0,
      "outputs": []
    },
    {
      "cell_type": "code",
      "metadata": {
        "id": "cjQ5VldkCvzF",
        "colab_type": "code",
        "outputId": "fb25521e-583a-4624-dea8-927b625b962b",
        "colab": {
          "base_uri": "https://localhost:8080/",
          "height": 34
        }
      },
      "source": [
        "rfacc = accuracy_score(y_test,y_pred)\n",
        "print(rfacc)"
      ],
      "execution_count": 47,
      "outputs": [
        {
          "output_type": "stream",
          "text": [
            "0.8380320619126589\n"
          ],
          "name": "stdout"
        }
      ]
    },
    {
      "cell_type": "code",
      "metadata": {
        "id": "A-uS0EgBPID3",
        "colab_type": "code",
        "outputId": "8abfe010-ecb3-4169-a8c2-3745a3e4f84b",
        "colab": {
          "base_uri": "https://localhost:8080/",
          "height": 34
        }
      },
      "source": [
        "# the auc has also increased significantly compare to CA03's decision tree\n",
        "y_score=rfc.predict_proba(X_test)[:,1]\n",
        "rfauc = roc_auc_score(y_test,y_score)\n",
        "print(rfauc)"
      ],
      "execution_count": 48,
      "outputs": [
        {
          "output_type": "stream",
          "text": [
            "0.8807638722919243\n"
          ],
          "name": "stdout"
        }
      ]
    },
    {
      "cell_type": "markdown",
      "metadata": {
        "id": "W3_aSUKUS2ij",
        "colab_type": "text"
      },
      "source": [
        "## Building AdaBoost, Gradient Boost (classifier) and XGB Model"
      ]
    },
    {
      "cell_type": "markdown",
      "metadata": {
        "id": "bGZ6NJeoVmpK",
        "colab_type": "text"
      },
      "source": [
        "### AdaBoostClassifier"
      ]
    },
    {
      "cell_type": "code",
      "metadata": {
        "id": "eoTjzZfNSnwb",
        "colab_type": "code",
        "colab": {}
      },
      "source": [
        "from sklearn.tree import DecisionTreeClassifier\n",
        "from sklearn.ensemble import AdaBoostClassifier,GradientBoostingClassifier"
      ],
      "execution_count": 0,
      "outputs": []
    },
    {
      "cell_type": "code",
      "metadata": {
        "id": "QQruFMQ4TQOI",
        "colab_type": "code",
        "colab": {}
      },
      "source": [
        "result = []\n",
        "n_est = np.linspace(50,500,10,dtype=\"int\")\n",
        "for n in n_est:\n",
        "  ada = AdaBoostClassifier(n_estimators=n,random_state=101)\n",
        "  ada.fit(X_train,y_train)\n",
        "  y_pred = ada.predict(X_test)\n",
        "  accuracy = np.mean(y_test==y_pred)\n",
        "  result.append(accuracy)"
      ],
      "execution_count": 0,
      "outputs": []
    },
    {
      "cell_type": "code",
      "metadata": {
        "id": "YxekQCqTTaCN",
        "colab_type": "code",
        "outputId": "653d40d1-1d34-4ba3-aef5-8c7589d8bb70",
        "colab": {
          "base_uri": "https://localhost:8080/",
          "height": 282
        }
      },
      "source": [
        "# the best n_est is 100\n",
        "plt.figure(figsize=(8,4))\n",
        "plt.plot(n_est,result,'-o',c='darkred')"
      ],
      "execution_count": 20,
      "outputs": [
        {
          "output_type": "execute_result",
          "data": {
            "text/plain": [
              "[<matplotlib.lines.Line2D at 0x7fbb854ccd30>]"
            ]
          },
          "metadata": {
            "tags": []
          },
          "execution_count": 20
        },
        {
          "output_type": "display_data",
          "data": {
            "image/png": "[encoded data removed]",
            "text/plain": [
              "<Figure size 576x288 with 1 Axes>"
            ]
          },
          "metadata": {
            "tags": []
          }
        }
      ]
    },
    {
      "cell_type": "code",
      "metadata": {
        "id": "ArpgKSLLULBM",
        "colab_type": "code",
        "colab": {}
      },
      "source": [
        "ada = AdaBoostClassifier(n_estimators=100,random_state=101)\n",
        "ada.fit(X_train,y_train)\n",
        "y_pred = ada.predict(X_test)"
      ],
      "execution_count": 0,
      "outputs": []
    },
    {
      "cell_type": "code",
      "metadata": {
        "id": "Zt4ZUW81NM7f",
        "colab_type": "code",
        "outputId": "f7e2f5a1-3329-4829-d39a-1b4322e3963d",
        "colab": {
          "base_uri": "https://localhost:8080/",
          "height": 34
        }
      },
      "source": [
        "adaacc = accuracy_score(y_test,y_pred)\n",
        "print(adaacc)"
      ],
      "execution_count": 50,
      "outputs": [
        {
          "output_type": "stream",
          "text": [
            "0.8454640378355138\n"
          ],
          "name": "stdout"
        }
      ]
    },
    {
      "cell_type": "code",
      "metadata": {
        "id": "SCCcu1UWNVF4",
        "colab_type": "code",
        "outputId": "4b2ca13f-60dd-4905-c6bb-a3eb73e31111",
        "colab": {
          "base_uri": "https://localhost:8080/",
          "height": 34
        }
      },
      "source": [
        "y_score=ada.predict_proba(X_test)[:,1]\n",
        "adaauc = roc_auc_score(y_test,y_score)\n",
        "print(adaauc)"
      ],
      "execution_count": 51,
      "outputs": [
        {
          "output_type": "stream",
          "text": [
            "0.8970858448330696\n"
          ],
          "name": "stdout"
        }
      ]
    },
    {
      "cell_type": "markdown",
      "metadata": {
        "id": "WArjSWO1VrDw",
        "colab_type": "text"
      },
      "source": [
        "### GradientBoost Classifier"
      ]
    },
    {
      "cell_type": "code",
      "metadata": {
        "id": "g_HusjjiVuSz",
        "colab_type": "code",
        "colab": {}
      },
      "source": [
        "result = []\n",
        "n_est = np.linspace(50,500,10,dtype=\"int\")\n",
        "for n in n_est:\n",
        "  gb = GradientBoostingClassifier(n_estimators=n,random_state=101)\n",
        "  gb.fit(X_train,y_train)\n",
        "  y_pred = gb.predict(X_test)\n",
        "  accuracy = np.mean(y_test==y_pred)\n",
        "  result.append(accuracy)"
      ],
      "execution_count": 0,
      "outputs": []
    },
    {
      "cell_type": "code",
      "metadata": {
        "id": "e3Zq4u0IY5ov",
        "colab_type": "code",
        "outputId": "6fb15f71-887f-4065-be62-a5b9f92dace1",
        "colab": {
          "base_uri": "https://localhost:8080/",
          "height": 282
        }
      },
      "source": [
        "# the best n_est is 250\n",
        "plt.figure(figsize=(8,4))\n",
        "plt.plot(n_est,result,'-o',c='darkred')"
      ],
      "execution_count": 25,
      "outputs": [
        {
          "output_type": "execute_result",
          "data": {
            "text/plain": [
              "[<matplotlib.lines.Line2D at 0x7fbb854482e8>]"
            ]
          },
          "metadata": {
            "tags": []
          },
          "execution_count": 25
        },
        {
          "output_type": "display_data",
          "data": {
            "image/png": "[encoded data removed]",
            "text/plain": [
              "<Figure size 576x288 with 1 Axes>"
            ]
          },
          "metadata": {
            "tags": []
          }
        }
      ]
    },
    {
      "cell_type": "code",
      "metadata": {
        "id": "sgUIYrz7aBlC",
        "colab_type": "code",
        "colab": {}
      },
      "source": [
        "gb = GradientBoostingClassifier(n_estimators=250,random_state=101)\n",
        "gb.fit(X_train,y_train)\n",
        "y_pred = gb.predict(X_test)"
      ],
      "execution_count": 0,
      "outputs": []
    },
    {
      "cell_type": "code",
      "metadata": {
        "id": "rpe5w7phborT",
        "colab_type": "code",
        "outputId": "38634d8e-66ea-4c0a-816d-50f4d839b053",
        "colab": {
          "base_uri": "https://localhost:8080/",
          "height": 34
        }
      },
      "source": [
        "gbacc = accuracy_score(y_test,y_pred)\n",
        "print(gbacc)"
      ],
      "execution_count": 53,
      "outputs": [
        {
          "output_type": "stream",
          "text": [
            "0.8463853571647934\n"
          ],
          "name": "stdout"
        }
      ]
    },
    {
      "cell_type": "code",
      "metadata": {
        "id": "OXGQUxBKb0A6",
        "colab_type": "code",
        "colab": {}
      },
      "source": [
        "y_score = gb.predict_proba(X_test)[:,1]"
      ],
      "execution_count": 0,
      "outputs": []
    },
    {
      "cell_type": "code",
      "metadata": {
        "id": "iU3HeAvCb8Pf",
        "colab_type": "code",
        "outputId": "9196f363-65b2-4478-ad70-2e42dda431ab",
        "colab": {
          "base_uri": "https://localhost:8080/",
          "height": 34
        }
      },
      "source": [
        "gbauc = roc_auc_score(y_test, y_pred)\n",
        "print(gbauc)"
      ],
      "execution_count": 55,
      "outputs": [
        {
          "output_type": "stream",
          "text": [
            "0.7576490104236256\n"
          ],
          "name": "stdout"
        }
      ]
    },
    {
      "cell_type": "markdown",
      "metadata": {
        "id": "4RDI1DyKmfqF",
        "colab_type": "text"
      },
      "source": [
        "### XGB Classifier"
      ]
    },
    {
      "cell_type": "code",
      "metadata": {
        "id": "taA1I3XUmlfH",
        "colab_type": "code",
        "outputId": "550905d4-c6e3-4389-eae9-28bfa5db7b3d",
        "colab": {
          "base_uri": "https://localhost:8080/",
          "height": 70
        }
      },
      "source": [
        "# If you don't have xgboost, run the code below\n",
        "# !pip install xgboost"
      ],
      "execution_count": 0,
      "outputs": [
        {
          "output_type": "stream",
          "text": [
            "Requirement already satisfied: xgboost in /usr/local/lib/python3.6/dist-packages (0.90)\n",
            "Requirement already satisfied: numpy in /usr/local/lib/python3.6/dist-packages (from xgboost) (1.17.5)\n",
            "Requirement already satisfied: scipy in /usr/local/lib/python3.6/dist-packages (from xgboost) (1.4.1)\n"
          ],
          "name": "stdout"
        }
      ]
    },
    {
      "cell_type": "code",
      "metadata": {
        "id": "2Ql73gTTmvLN",
        "colab_type": "code",
        "colab": {}
      },
      "source": [
        "import xgboost as xgb"
      ],
      "execution_count": 0,
      "outputs": []
    },
    {
      "cell_type": "code",
      "metadata": {
        "id": "13tihXKapMQK",
        "colab_type": "code",
        "colab": {}
      },
      "source": [
        "result = []\n",
        "n_est = np.linspace(50,500,10,dtype=\"int\")\n",
        "for n in n_est:\n",
        "  xgbc = xgb.XGBClassifier(n_estimators=n,objective ='binary:logistic', learning_rate = 0.1, random_state=101)\n",
        "  xgbc.fit(X_train,y_train)\n",
        "  y_pred = xgbc.predict(X_test)\n",
        "  accuracy = np.mean(y_test==y_pred)\n",
        "  result.append(accuracy)"
      ],
      "execution_count": 0,
      "outputs": []
    },
    {
      "cell_type": "code",
      "metadata": {
        "id": "8k_yN2oArReP",
        "colab_type": "code",
        "outputId": "eae7c558-a012-4e2b-faf5-48f016109707",
        "colab": {
          "base_uri": "https://localhost:8080/",
          "height": 282
        }
      },
      "source": [
        "# the best n_est is 300\n",
        "plt.figure(figsize=(8,4))\n",
        "plt.plot(n_est,result,'-o',c='darkred')"
      ],
      "execution_count": 30,
      "outputs": [
        {
          "output_type": "execute_result",
          "data": {
            "text/plain": [
              "[<matplotlib.lines.Line2D at 0x7fbb7c636080>]"
            ]
          },
          "metadata": {
            "tags": []
          },
          "execution_count": 30
        },
        {
          "output_type": "display_data",
          "data": {
            "image/png": "[encoded data removed]",
            "text/plain": [
              "<Figure size 576x288 with 1 Axes>"
            ]
          },
          "metadata": {
            "tags": []
          }
        }
      ]
    },
    {
      "cell_type": "code",
      "metadata": {
        "id": "42iGwUV7o1jY",
        "colab_type": "code",
        "colab": {}
      },
      "source": [
        "# This is a binary classification question, so I use objective ='binary:logistic'\n",
        "xgbc = xgb.XGBClassifier(objective ='binary:logistic', learning_rate = 0.1, random_state=101, n_estimators=300)"
      ],
      "execution_count": 0,
      "outputs": []
    },
    {
      "cell_type": "code",
      "metadata": {
        "id": "TEQoB1Fipty4",
        "colab_type": "code",
        "colab": {}
      },
      "source": [
        "xgbc.fit(X_train, y_train)\n",
        "y_pred = xgbc.predict(X_test)"
      ],
      "execution_count": 0,
      "outputs": []
    },
    {
      "cell_type": "code",
      "metadata": {
        "id": "TFp8w9yYzTX5",
        "colab_type": "code",
        "outputId": "b29e6404-5b5d-445b-8405-79a512c95930",
        "colab": {
          "base_uri": "https://localhost:8080/",
          "height": 34
        }
      },
      "source": [
        "xgbacc = accuracy_score(y_test,y_pred)\n",
        "print(xgbacc)"
      ],
      "execution_count": 58,
      "outputs": [
        {
          "output_type": "stream",
          "text": [
            "0.8472452552054542\n"
          ],
          "name": "stdout"
        }
      ]
    },
    {
      "cell_type": "code",
      "metadata": {
        "id": "LO_LZjoxzZUJ",
        "colab_type": "code",
        "outputId": "7b1c1ff1-7ee2-48c2-ae21-b54d1553932d",
        "colab": {
          "base_uri": "https://localhost:8080/",
          "height": 34
        }
      },
      "source": [
        "y_score = xgbc.predict_proba(X_test)[:,1]\n",
        "xgbauc = roc_auc_score(y_test, y_score)\n",
        "print(xgbauc)"
      ],
      "execution_count": 59,
      "outputs": [
        {
          "output_type": "stream",
          "text": [
            "0.8982081864697989\n"
          ],
          "name": "stdout"
        }
      ]
    },
    {
      "cell_type": "markdown",
      "metadata": {
        "id": "OL3c0bOKdGNs",
        "colab_type": "text"
      },
      "source": [
        "## Compare Performance"
      ]
    },
    {
      "cell_type": "code",
      "metadata": {
        "id": "T3ZTMA_ngfLO",
        "colab_type": "code",
        "colab": {}
      },
      "source": [
        "dist = {'RandomForest':{'Accuracy':rfacc,'AUC':rfauc, 'RandomState':101,'n_est':500},'AdaBoost':{'Accuracy':adaacc,'AUC':adaauc,'RandomState':101,'n_est':100},\n",
        "        'GradientBoost':{'Accuracy':gbacc,'AUC':gbauc,'RandomState':101,'n_est':250},'Xgboost':{'Accuracy':xgbacc,'AUC':xgbauc,'RandomState':101,'n_est':300}}"
      ],
      "execution_count": 0,
      "outputs": []
    },
    {
      "cell_type": "code",
      "metadata": {
        "id": "sy2TsAYue-QS",
        "colab_type": "code",
        "outputId": "3dc31511-1487-4e85-ef2b-9b85dd6fd030",
        "colab": {
          "base_uri": "https://localhost:8080/",
          "height": 166
        }
      },
      "source": [
        "comparedf = pd.DataFrame(dist)\n",
        "comparedf"
      ],
      "execution_count": 61,
      "outputs": [
        {
          "output_type": "execute_result",
          "data": {
            "text/html": [
              "<div>\n",
              "<style scoped>\n",
              "    .dataframe tbody tr th:only-of-type {\n",
              "        vertical-align: middle;\n",
              "    }\n",
              "\n",
              "    .dataframe tbody tr th {\n",
              "        vertical-align: top;\n",
              "    }\n",
              "\n",
              "    .dataframe thead th {\n",
              "        text-align: right;\n",
              "    }\n",
              "</style>\n",
              "<table border=\"1\" class=\"dataframe\">\n",
              "  <thead>\n",
              "    <tr style=\"text-align: right;\">\n",
              "      <th></th>\n",
              "      <th>RandomForest</th>\n",
              "      <th>AdaBoost</th>\n",
              "      <th>GradientBoost</th>\n",
              "      <th>Xgboost</th>\n",
              "    </tr>\n",
              "  </thead>\n",
              "  <tbody>\n",
              "    <tr>\n",
              "      <th>Accuracy</th>\n",
              "      <td>0.838032</td>\n",
              "      <td>0.845464</td>\n",
              "      <td>0.846385</td>\n",
              "      <td>0.847245</td>\n",
              "    </tr>\n",
              "    <tr>\n",
              "      <th>AUC</th>\n",
              "      <td>0.880764</td>\n",
              "      <td>0.897086</td>\n",
              "      <td>0.757649</td>\n",
              "      <td>0.898208</td>\n",
              "    </tr>\n",
              "    <tr>\n",
              "      <th>RandomState</th>\n",
              "      <td>101.000000</td>\n",
              "      <td>101.000000</td>\n",
              "      <td>101.000000</td>\n",
              "      <td>101.000000</td>\n",
              "    </tr>\n",
              "    <tr>\n",
              "      <th>n_est</th>\n",
              "      <td>500.000000</td>\n",
              "      <td>100.000000</td>\n",
              "      <td>250.000000</td>\n",
              "      <td>300.000000</td>\n",
              "    </tr>\n",
              "  </tbody>\n",
              "</table>\n",
              "</div>"
            ],
            "text/plain": [
              "             RandomForest    AdaBoost  GradientBoost     Xgboost\n",
              "Accuracy         0.838032    0.845464       0.846385    0.847245\n",
              "AUC              0.880764    0.897086       0.757649    0.898208\n",
              "RandomState    101.000000  101.000000     101.000000  101.000000\n",
              "n_est          500.000000  100.000000     250.000000  300.000000"
            ]
          },
          "metadata": {
            "tags": []
          },
          "execution_count": 61
        }
      ]
    },
    {
      "cell_type": "code",
      "metadata": {
        "id": "-vb_bMMAlW9P",
        "colab_type": "code",
        "outputId": "635cbb85-a2a7-4245-aa3b-cb6fa4f329cf",
        "colab": {
          "base_uri": "https://localhost:8080/",
          "height": 106
        }
      },
      "source": [
        "# because the column data type is float, so Randomstate and n_est would automatically transform to float\n",
        "# below is the correct datatype for these two rows\n",
        "comparedf.iloc[2:,].astype('int64')"
      ],
      "execution_count": 62,
      "outputs": [
        {
          "output_type": "execute_result",
          "data": {
            "text/html": [
              "<div>\n",
              "<style scoped>\n",
              "    .dataframe tbody tr th:only-of-type {\n",
              "        vertical-align: middle;\n",
              "    }\n",
              "\n",
              "    .dataframe tbody tr th {\n",
              "        vertical-align: top;\n",
              "    }\n",
              "\n",
              "    .dataframe thead th {\n",
              "        text-align: right;\n",
              "    }\n",
              "</style>\n",
              "<table border=\"1\" class=\"dataframe\">\n",
              "  <thead>\n",
              "    <tr style=\"text-align: right;\">\n",
              "      <th></th>\n",
              "      <th>RandomForest</th>\n",
              "      <th>AdaBoost</th>\n",
              "      <th>GradientBoost</th>\n",
              "      <th>Xgboost</th>\n",
              "    </tr>\n",
              "  </thead>\n",
              "  <tbody>\n",
              "    <tr>\n",
              "      <th>RandomState</th>\n",
              "      <td>101</td>\n",
              "      <td>101</td>\n",
              "      <td>101</td>\n",
              "      <td>101</td>\n",
              "    </tr>\n",
              "    <tr>\n",
              "      <th>n_est</th>\n",
              "      <td>500</td>\n",
              "      <td>100</td>\n",
              "      <td>250</td>\n",
              "      <td>300</td>\n",
              "    </tr>\n",
              "  </tbody>\n",
              "</table>\n",
              "</div>"
            ],
            "text/plain": [
              "             RandomForest  AdaBoost  GradientBoost  Xgboost\n",
              "RandomState           101       101            101      101\n",
              "n_est                 500       100            250      300"
            ]
          },
          "metadata": {
            "tags": []
          },
          "execution_count": 62
        }
      ]
    }
  ]
}