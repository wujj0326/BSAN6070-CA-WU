{
 "cells": [
  {
   "cell_type": "markdown",
   "metadata": {
    "colab_type": "text",
    "id": "YbuMlttcpxGE"
   },
   "source": [
    "# Your name: Eric Wu\n",
    "## Assignment Name: CA01 - Data Cleaning and Exploration of India Air Quality"
   ]
  },
  {
   "cell_type": "markdown",
   "metadata": {
    "colab_type": "text",
    "id": "5-OaMY7jpxGF"
   },
   "source": [
    "# Program Inititialization Section\n",
    "## Enter your import packages here"
   ]
  },
  {
   "cell_type": "code",
   "execution_count": 1,
   "metadata": {
    "colab": {},
    "colab_type": "code",
    "id": "7HXZZkUjpxGG"
   },
   "outputs": [],
   "source": [
    "# import packages \n",
    "import pandas as pd\n",
    "import numpy as np\n",
    "import matplotlib.pyplot as plt\n",
    "from sklearn.impute import SimpleImputer\n",
    "\n",
    "# This package and the following code would let the Python Notebook show all the results within one cell \n",
    "# instead of only showing the last result.\n",
    "# See the section of Summarized Details for the examples.\n",
    "from IPython.core.interactiveshell import InteractiveShell\n",
    "InteractiveShell.ast_node_interactivity = \"all\""
   ]
  },
  {
   "cell_type": "markdown",
   "metadata": {
    "colab_type": "text",
    "id": "Ma1NAyLspxGK"
   },
   "source": [
    "# Data File Reading Section\n",
    "## Write code to read in data from external sources here"
   ]
  },
  {
   "cell_type": "code",
   "execution_count": 2,
   "metadata": {
    "colab": {
     "base_uri": "https://localhost:8080/",
     "height": 334
    },
    "colab_type": "code",
    "id": "gI0cfaa5pxGK",
    "outputId": "13487760-830e-465a-e8e1-493baf8906b1",
    "scrolled": false
   },
   "outputs": [
    {
     "name": "stderr",
     "output_type": "stream",
     "text": [
      "C:\\Users\\wuuj0\\Anaconda3\\lib\\site-packages\\IPython\\core\\interactiveshell.py:3057: DtypeWarning: Columns (0) have mixed types. Specify dtype option on import or set low_memory=False.\n",
      "  interactivity=interactivity, compiler=compiler, result=result)\n"
     ]
    },
    {
     "data": {
      "text/html": [
       "<div>\n",
       "<style scoped>\n",
       "    .dataframe tbody tr th:only-of-type {\n",
       "        vertical-align: middle;\n",
       "    }\n",
       "\n",
       "    .dataframe tbody tr th {\n",
       "        vertical-align: top;\n",
       "    }\n",
       "\n",
       "    .dataframe thead th {\n",
       "        text-align: right;\n",
       "    }\n",
       "</style>\n",
       "<table border=\"1\" class=\"dataframe\">\n",
       "  <thead>\n",
       "    <tr style=\"text-align: right;\">\n",
       "      <th></th>\n",
       "      <th>stn_code</th>\n",
       "      <th>sampling_date</th>\n",
       "      <th>state</th>\n",
       "      <th>location</th>\n",
       "      <th>agency</th>\n",
       "      <th>type</th>\n",
       "      <th>so2</th>\n",
       "      <th>no2</th>\n",
       "      <th>rspm</th>\n",
       "      <th>spm</th>\n",
       "      <th>location_monitoring_station</th>\n",
       "      <th>pm2_5</th>\n",
       "      <th>date</th>\n",
       "    </tr>\n",
       "  </thead>\n",
       "  <tbody>\n",
       "    <tr>\n",
       "      <th>0</th>\n",
       "      <td>150</td>\n",
       "      <td>February - M021990</td>\n",
       "      <td>Andhra Pradesh</td>\n",
       "      <td>Hyderabad</td>\n",
       "      <td>NaN</td>\n",
       "      <td>Residential, Rural and other Areas</td>\n",
       "      <td>4.8</td>\n",
       "      <td>17.4</td>\n",
       "      <td>NaN</td>\n",
       "      <td>NaN</td>\n",
       "      <td>NaN</td>\n",
       "      <td>NaN</td>\n",
       "      <td>2/1/1990</td>\n",
       "    </tr>\n",
       "    <tr>\n",
       "      <th>1</th>\n",
       "      <td>151</td>\n",
       "      <td>February - M021990</td>\n",
       "      <td>Andhra Pradesh</td>\n",
       "      <td>Hyderabad</td>\n",
       "      <td>NaN</td>\n",
       "      <td>Industrial Area</td>\n",
       "      <td>3.1</td>\n",
       "      <td>7.0</td>\n",
       "      <td>NaN</td>\n",
       "      <td>NaN</td>\n",
       "      <td>NaN</td>\n",
       "      <td>NaN</td>\n",
       "      <td>2/1/1990</td>\n",
       "    </tr>\n",
       "    <tr>\n",
       "      <th>2</th>\n",
       "      <td>152</td>\n",
       "      <td>February - M021990</td>\n",
       "      <td>Andhra Pradesh</td>\n",
       "      <td>Hyderabad</td>\n",
       "      <td>NaN</td>\n",
       "      <td>Residential, Rural and other Areas</td>\n",
       "      <td>6.2</td>\n",
       "      <td>28.5</td>\n",
       "      <td>NaN</td>\n",
       "      <td>NaN</td>\n",
       "      <td>NaN</td>\n",
       "      <td>NaN</td>\n",
       "      <td>2/1/1990</td>\n",
       "    </tr>\n",
       "    <tr>\n",
       "      <th>3</th>\n",
       "      <td>150</td>\n",
       "      <td>March - M031990</td>\n",
       "      <td>Andhra Pradesh</td>\n",
       "      <td>Hyderabad</td>\n",
       "      <td>NaN</td>\n",
       "      <td>Residential, Rural and other Areas</td>\n",
       "      <td>6.3</td>\n",
       "      <td>14.7</td>\n",
       "      <td>NaN</td>\n",
       "      <td>NaN</td>\n",
       "      <td>NaN</td>\n",
       "      <td>NaN</td>\n",
       "      <td>3/1/1990</td>\n",
       "    </tr>\n",
       "    <tr>\n",
       "      <th>4</th>\n",
       "      <td>151</td>\n",
       "      <td>March - M031990</td>\n",
       "      <td>Andhra Pradesh</td>\n",
       "      <td>Hyderabad</td>\n",
       "      <td>NaN</td>\n",
       "      <td>Industrial Area</td>\n",
       "      <td>4.7</td>\n",
       "      <td>7.5</td>\n",
       "      <td>NaN</td>\n",
       "      <td>NaN</td>\n",
       "      <td>NaN</td>\n",
       "      <td>NaN</td>\n",
       "      <td>3/1/1990</td>\n",
       "    </tr>\n",
       "  </tbody>\n",
       "</table>\n",
       "</div>"
      ],
      "text/plain": [
       "  stn_code       sampling_date           state   location agency  \\\n",
       "0      150  February - M021990  Andhra Pradesh  Hyderabad    NaN   \n",
       "1      151  February - M021990  Andhra Pradesh  Hyderabad    NaN   \n",
       "2      152  February - M021990  Andhra Pradesh  Hyderabad    NaN   \n",
       "3      150     March - M031990  Andhra Pradesh  Hyderabad    NaN   \n",
       "4      151     March - M031990  Andhra Pradesh  Hyderabad    NaN   \n",
       "\n",
       "                                 type  so2   no2  rspm  spm  \\\n",
       "0  Residential, Rural and other Areas  4.8  17.4   NaN  NaN   \n",
       "1                     Industrial Area  3.1   7.0   NaN  NaN   \n",
       "2  Residential, Rural and other Areas  6.2  28.5   NaN  NaN   \n",
       "3  Residential, Rural and other Areas  6.3  14.7   NaN  NaN   \n",
       "4                     Industrial Area  4.7   7.5   NaN  NaN   \n",
       "\n",
       "  location_monitoring_station  pm2_5      date  \n",
       "0                         NaN    NaN  2/1/1990  \n",
       "1                         NaN    NaN  2/1/1990  \n",
       "2                         NaN    NaN  2/1/1990  \n",
       "3                         NaN    NaN  3/1/1990  \n",
       "4                         NaN    NaN  3/1/1990  "
      ]
     },
     "execution_count": 2,
     "metadata": {},
     "output_type": "execute_result"
    }
   ],
   "source": [
    "#read datasets\n",
    "india_df = pd.read_csv('india_polution.csv')\n",
    "india_df.head()"
   ]
  },
  {
   "cell_type": "markdown",
   "metadata": {
    "colab_type": "text",
    "id": "S3nTAPEVpxGN"
   },
   "source": [
    "# Initial Data Investigation Section\n",
    "\n",
    "## Summarized details\n",
    "### Generate descriptive statistics that summarize the central tendency, dispersion, and shape of a dataset’s distribution, excluding NaN values.\n",
    "#### Steps:\n",
    "#### 1. Statistical Description of data (data.describe)\n",
    "#### 2. Display number of total rows and columns of the dataset (data.shape)\n",
    "#### 3. Display number of non-null values for each column (data.count)\n",
    "#### 4. Display number of null values for each column (sum of data.isnull)\n",
    "#### 5. Display range, column, number of non-null objects of each column, datatype and memory usage (data.info)\n",
    "#### 6. Display Top 10 and Bottom 10 records (head and tail)"
   ]
  },
  {
   "cell_type": "code",
   "execution_count": 34,
   "metadata": {
    "colab": {
     "base_uri": "https://localhost:8080/",
     "height": 1000
    },
    "colab_type": "code",
    "id": "Tgf1wIqgpxGO",
    "outputId": "d492a948-4800-4c60-90b3-8481f2939663",
    "scrolled": false
   },
   "outputs": [
    {
     "name": "stdout",
     "output_type": "stream",
     "text": [
      "The descriptive statistics for numeric variables is\n"
     ]
    },
    {
     "data": {
      "text/html": [
       "<div>\n",
       "<style scoped>\n",
       "    .dataframe tbody tr th:only-of-type {\n",
       "        vertical-align: middle;\n",
       "    }\n",
       "\n",
       "    .dataframe tbody tr th {\n",
       "        vertical-align: top;\n",
       "    }\n",
       "\n",
       "    .dataframe thead th {\n",
       "        text-align: right;\n",
       "    }\n",
       "</style>\n",
       "<table border=\"1\" class=\"dataframe\">\n",
       "  <thead>\n",
       "    <tr style=\"text-align: right;\">\n",
       "      <th></th>\n",
       "      <th>so2</th>\n",
       "      <th>no2</th>\n",
       "      <th>rspm</th>\n",
       "      <th>spm</th>\n",
       "      <th>pm2_5</th>\n",
       "    </tr>\n",
       "  </thead>\n",
       "  <tbody>\n",
       "    <tr>\n",
       "      <th>count</th>\n",
       "      <td>401096.000000</td>\n",
       "      <td>419509.000000</td>\n",
       "      <td>395520.000000</td>\n",
       "      <td>198355.000000</td>\n",
       "      <td>9314.000000</td>\n",
       "    </tr>\n",
       "    <tr>\n",
       "      <th>mean</th>\n",
       "      <td>10.829414</td>\n",
       "      <td>25.809623</td>\n",
       "      <td>108.832784</td>\n",
       "      <td>220.783480</td>\n",
       "      <td>40.791467</td>\n",
       "    </tr>\n",
       "    <tr>\n",
       "      <th>std</th>\n",
       "      <td>11.177187</td>\n",
       "      <td>18.503086</td>\n",
       "      <td>74.872430</td>\n",
       "      <td>151.395457</td>\n",
       "      <td>30.832525</td>\n",
       "    </tr>\n",
       "    <tr>\n",
       "      <th>min</th>\n",
       "      <td>0.000000</td>\n",
       "      <td>0.000000</td>\n",
       "      <td>0.000000</td>\n",
       "      <td>0.000000</td>\n",
       "      <td>3.000000</td>\n",
       "    </tr>\n",
       "    <tr>\n",
       "      <th>25%</th>\n",
       "      <td>5.000000</td>\n",
       "      <td>14.000000</td>\n",
       "      <td>56.000000</td>\n",
       "      <td>111.000000</td>\n",
       "      <td>24.000000</td>\n",
       "    </tr>\n",
       "    <tr>\n",
       "      <th>50%</th>\n",
       "      <td>8.000000</td>\n",
       "      <td>22.000000</td>\n",
       "      <td>90.000000</td>\n",
       "      <td>187.000000</td>\n",
       "      <td>32.000000</td>\n",
       "    </tr>\n",
       "    <tr>\n",
       "      <th>75%</th>\n",
       "      <td>13.700000</td>\n",
       "      <td>32.200000</td>\n",
       "      <td>142.000000</td>\n",
       "      <td>296.000000</td>\n",
       "      <td>46.000000</td>\n",
       "    </tr>\n",
       "    <tr>\n",
       "      <th>max</th>\n",
       "      <td>909.000000</td>\n",
       "      <td>876.000000</td>\n",
       "      <td>6307.033333</td>\n",
       "      <td>3380.000000</td>\n",
       "      <td>504.000000</td>\n",
       "    </tr>\n",
       "  </tbody>\n",
       "</table>\n",
       "</div>"
      ],
      "text/plain": [
       "                 so2            no2           rspm            spm        pm2_5\n",
       "count  401096.000000  419509.000000  395520.000000  198355.000000  9314.000000\n",
       "mean       10.829414      25.809623     108.832784     220.783480    40.791467\n",
       "std        11.177187      18.503086      74.872430     151.395457    30.832525\n",
       "min         0.000000       0.000000       0.000000       0.000000     3.000000\n",
       "25%         5.000000      14.000000      56.000000     111.000000    24.000000\n",
       "50%         8.000000      22.000000      90.000000     187.000000    32.000000\n",
       "75%        13.700000      32.200000     142.000000     296.000000    46.000000\n",
       "max       909.000000     876.000000    6307.033333    3380.000000   504.000000"
      ]
     },
     "execution_count": 34,
     "metadata": {},
     "output_type": "execute_result"
    },
    {
     "name": "stdout",
     "output_type": "stream",
     "text": [
      "The shape of the csv is\n"
     ]
    },
    {
     "data": {
      "text/plain": [
       "(435742, 13)"
      ]
     },
     "execution_count": 34,
     "metadata": {},
     "output_type": "execute_result"
    },
    {
     "name": "stdout",
     "output_type": "stream",
     "text": [
      "The count of each variable is\n"
     ]
    },
    {
     "data": {
      "text/plain": [
       "stn_code                       291665\n",
       "sampling_date                  435739\n",
       "state                          435742\n",
       "location                       435739\n",
       "agency                         286261\n",
       "type                           430349\n",
       "so2                            401096\n",
       "no2                            419509\n",
       "rspm                           395520\n",
       "spm                            198355\n",
       "location_monitoring_station    408251\n",
       "pm2_5                            9314\n",
       "date                           435735\n",
       "dtype: int64"
      ]
     },
     "execution_count": 34,
     "metadata": {},
     "output_type": "execute_result"
    },
    {
     "name": "stdout",
     "output_type": "stream",
     "text": [
      "The count of null value for each variable is\n"
     ]
    },
    {
     "data": {
      "text/plain": [
       "stn_code                       144077\n",
       "sampling_date                       3\n",
       "state                               0\n",
       "location                            3\n",
       "agency                         149481\n",
       "type                             5393\n",
       "so2                             34646\n",
       "no2                             16233\n",
       "rspm                            40222\n",
       "spm                            237387\n",
       "location_monitoring_station     27491\n",
       "pm2_5                          426428\n",
       "date                                7\n",
       "dtype: int64"
      ]
     },
     "execution_count": 34,
     "metadata": {},
     "output_type": "execute_result"
    },
    {
     "name": "stdout",
     "output_type": "stream",
     "text": [
      "The info for each variable is\n",
      "<class 'pandas.core.frame.DataFrame'>\n",
      "RangeIndex: 435742 entries, 0 to 435741\n",
      "Data columns (total 13 columns):\n",
      "stn_code                       291665 non-null object\n",
      "sampling_date                  435739 non-null object\n",
      "state                          435742 non-null object\n",
      "location                       435739 non-null object\n",
      "agency                         286261 non-null object\n",
      "type                           430349 non-null object\n",
      "so2                            401096 non-null float64\n",
      "no2                            419509 non-null float64\n",
      "rspm                           395520 non-null float64\n",
      "spm                            198355 non-null float64\n",
      "location_monitoring_station    408251 non-null object\n",
      "pm2_5                          9314 non-null float64\n",
      "date                           435735 non-null object\n",
      "dtypes: float64(5), object(8)\n",
      "memory usage: 43.2+ MB\n",
      "The top 10 records are\n"
     ]
    },
    {
     "data": {
      "text/html": [
       "<div>\n",
       "<style scoped>\n",
       "    .dataframe tbody tr th:only-of-type {\n",
       "        vertical-align: middle;\n",
       "    }\n",
       "\n",
       "    .dataframe tbody tr th {\n",
       "        vertical-align: top;\n",
       "    }\n",
       "\n",
       "    .dataframe thead th {\n",
       "        text-align: right;\n",
       "    }\n",
       "</style>\n",
       "<table border=\"1\" class=\"dataframe\">\n",
       "  <thead>\n",
       "    <tr style=\"text-align: right;\">\n",
       "      <th></th>\n",
       "      <th>stn_code</th>\n",
       "      <th>sampling_date</th>\n",
       "      <th>state</th>\n",
       "      <th>location</th>\n",
       "      <th>agency</th>\n",
       "      <th>type</th>\n",
       "      <th>so2</th>\n",
       "      <th>no2</th>\n",
       "      <th>rspm</th>\n",
       "      <th>spm</th>\n",
       "      <th>location_monitoring_station</th>\n",
       "      <th>pm2_5</th>\n",
       "      <th>date</th>\n",
       "    </tr>\n",
       "  </thead>\n",
       "  <tbody>\n",
       "    <tr>\n",
       "      <th>0</th>\n",
       "      <td>150</td>\n",
       "      <td>February - M021990</td>\n",
       "      <td>Andhra Pradesh</td>\n",
       "      <td>Hyderabad</td>\n",
       "      <td>NaN</td>\n",
       "      <td>Residential, Rural and other Areas</td>\n",
       "      <td>4.8</td>\n",
       "      <td>17.4</td>\n",
       "      <td>NaN</td>\n",
       "      <td>NaN</td>\n",
       "      <td>NaN</td>\n",
       "      <td>NaN</td>\n",
       "      <td>2/1/1990</td>\n",
       "    </tr>\n",
       "    <tr>\n",
       "      <th>1</th>\n",
       "      <td>151</td>\n",
       "      <td>February - M021990</td>\n",
       "      <td>Andhra Pradesh</td>\n",
       "      <td>Hyderabad</td>\n",
       "      <td>NaN</td>\n",
       "      <td>Industrial Area</td>\n",
       "      <td>3.1</td>\n",
       "      <td>7.0</td>\n",
       "      <td>NaN</td>\n",
       "      <td>NaN</td>\n",
       "      <td>NaN</td>\n",
       "      <td>NaN</td>\n",
       "      <td>2/1/1990</td>\n",
       "    </tr>\n",
       "    <tr>\n",
       "      <th>2</th>\n",
       "      <td>152</td>\n",
       "      <td>February - M021990</td>\n",
       "      <td>Andhra Pradesh</td>\n",
       "      <td>Hyderabad</td>\n",
       "      <td>NaN</td>\n",
       "      <td>Residential, Rural and other Areas</td>\n",
       "      <td>6.2</td>\n",
       "      <td>28.5</td>\n",
       "      <td>NaN</td>\n",
       "      <td>NaN</td>\n",
       "      <td>NaN</td>\n",
       "      <td>NaN</td>\n",
       "      <td>2/1/1990</td>\n",
       "    </tr>\n",
       "    <tr>\n",
       "      <th>3</th>\n",
       "      <td>150</td>\n",
       "      <td>March - M031990</td>\n",
       "      <td>Andhra Pradesh</td>\n",
       "      <td>Hyderabad</td>\n",
       "      <td>NaN</td>\n",
       "      <td>Residential, Rural and other Areas</td>\n",
       "      <td>6.3</td>\n",
       "      <td>14.7</td>\n",
       "      <td>NaN</td>\n",
       "      <td>NaN</td>\n",
       "      <td>NaN</td>\n",
       "      <td>NaN</td>\n",
       "      <td>3/1/1990</td>\n",
       "    </tr>\n",
       "    <tr>\n",
       "      <th>4</th>\n",
       "      <td>151</td>\n",
       "      <td>March - M031990</td>\n",
       "      <td>Andhra Pradesh</td>\n",
       "      <td>Hyderabad</td>\n",
       "      <td>NaN</td>\n",
       "      <td>Industrial Area</td>\n",
       "      <td>4.7</td>\n",
       "      <td>7.5</td>\n",
       "      <td>NaN</td>\n",
       "      <td>NaN</td>\n",
       "      <td>NaN</td>\n",
       "      <td>NaN</td>\n",
       "      <td>3/1/1990</td>\n",
       "    </tr>\n",
       "    <tr>\n",
       "      <th>5</th>\n",
       "      <td>152</td>\n",
       "      <td>March - M031990</td>\n",
       "      <td>Andhra Pradesh</td>\n",
       "      <td>Hyderabad</td>\n",
       "      <td>NaN</td>\n",
       "      <td>Residential, Rural and other Areas</td>\n",
       "      <td>6.4</td>\n",
       "      <td>25.7</td>\n",
       "      <td>NaN</td>\n",
       "      <td>NaN</td>\n",
       "      <td>NaN</td>\n",
       "      <td>NaN</td>\n",
       "      <td>3/1/1990</td>\n",
       "    </tr>\n",
       "    <tr>\n",
       "      <th>6</th>\n",
       "      <td>150</td>\n",
       "      <td>April - M041990</td>\n",
       "      <td>Andhra Pradesh</td>\n",
       "      <td>Hyderabad</td>\n",
       "      <td>NaN</td>\n",
       "      <td>Residential, Rural and other Areas</td>\n",
       "      <td>5.4</td>\n",
       "      <td>17.1</td>\n",
       "      <td>NaN</td>\n",
       "      <td>NaN</td>\n",
       "      <td>NaN</td>\n",
       "      <td>NaN</td>\n",
       "      <td>4/1/1990</td>\n",
       "    </tr>\n",
       "    <tr>\n",
       "      <th>7</th>\n",
       "      <td>151</td>\n",
       "      <td>April - M041990</td>\n",
       "      <td>Andhra Pradesh</td>\n",
       "      <td>Hyderabad</td>\n",
       "      <td>NaN</td>\n",
       "      <td>Industrial Area</td>\n",
       "      <td>4.7</td>\n",
       "      <td>8.7</td>\n",
       "      <td>NaN</td>\n",
       "      <td>NaN</td>\n",
       "      <td>NaN</td>\n",
       "      <td>NaN</td>\n",
       "      <td>4/1/1990</td>\n",
       "    </tr>\n",
       "    <tr>\n",
       "      <th>8</th>\n",
       "      <td>152</td>\n",
       "      <td>April - M041990</td>\n",
       "      <td>Andhra Pradesh</td>\n",
       "      <td>Hyderabad</td>\n",
       "      <td>NaN</td>\n",
       "      <td>Residential, Rural and other Areas</td>\n",
       "      <td>4.2</td>\n",
       "      <td>23.0</td>\n",
       "      <td>NaN</td>\n",
       "      <td>NaN</td>\n",
       "      <td>NaN</td>\n",
       "      <td>NaN</td>\n",
       "      <td>4/1/1990</td>\n",
       "    </tr>\n",
       "    <tr>\n",
       "      <th>9</th>\n",
       "      <td>151</td>\n",
       "      <td>May - M051990</td>\n",
       "      <td>Andhra Pradesh</td>\n",
       "      <td>Hyderabad</td>\n",
       "      <td>NaN</td>\n",
       "      <td>Industrial Area</td>\n",
       "      <td>4.0</td>\n",
       "      <td>8.9</td>\n",
       "      <td>NaN</td>\n",
       "      <td>NaN</td>\n",
       "      <td>NaN</td>\n",
       "      <td>NaN</td>\n",
       "      <td>5/1/1990</td>\n",
       "    </tr>\n",
       "  </tbody>\n",
       "</table>\n",
       "</div>"
      ],
      "text/plain": [
       "  stn_code       sampling_date           state   location agency  \\\n",
       "0      150  February - M021990  Andhra Pradesh  Hyderabad    NaN   \n",
       "1      151  February - M021990  Andhra Pradesh  Hyderabad    NaN   \n",
       "2      152  February - M021990  Andhra Pradesh  Hyderabad    NaN   \n",
       "3      150     March - M031990  Andhra Pradesh  Hyderabad    NaN   \n",
       "4      151     March - M031990  Andhra Pradesh  Hyderabad    NaN   \n",
       "5      152     March - M031990  Andhra Pradesh  Hyderabad    NaN   \n",
       "6      150     April - M041990  Andhra Pradesh  Hyderabad    NaN   \n",
       "7      151     April - M041990  Andhra Pradesh  Hyderabad    NaN   \n",
       "8      152     April - M041990  Andhra Pradesh  Hyderabad    NaN   \n",
       "9      151       May - M051990  Andhra Pradesh  Hyderabad    NaN   \n",
       "\n",
       "                                 type  so2   no2  rspm  spm  \\\n",
       "0  Residential, Rural and other Areas  4.8  17.4   NaN  NaN   \n",
       "1                     Industrial Area  3.1   7.0   NaN  NaN   \n",
       "2  Residential, Rural and other Areas  6.2  28.5   NaN  NaN   \n",
       "3  Residential, Rural and other Areas  6.3  14.7   NaN  NaN   \n",
       "4                     Industrial Area  4.7   7.5   NaN  NaN   \n",
       "5  Residential, Rural and other Areas  6.4  25.7   NaN  NaN   \n",
       "6  Residential, Rural and other Areas  5.4  17.1   NaN  NaN   \n",
       "7                     Industrial Area  4.7   8.7   NaN  NaN   \n",
       "8  Residential, Rural and other Areas  4.2  23.0   NaN  NaN   \n",
       "9                     Industrial Area  4.0   8.9   NaN  NaN   \n",
       "\n",
       "  location_monitoring_station  pm2_5      date  \n",
       "0                         NaN    NaN  2/1/1990  \n",
       "1                         NaN    NaN  2/1/1990  \n",
       "2                         NaN    NaN  2/1/1990  \n",
       "3                         NaN    NaN  3/1/1990  \n",
       "4                         NaN    NaN  3/1/1990  \n",
       "5                         NaN    NaN  3/1/1990  \n",
       "6                         NaN    NaN  4/1/1990  \n",
       "7                         NaN    NaN  4/1/1990  \n",
       "8                         NaN    NaN  4/1/1990  \n",
       "9                         NaN    NaN  5/1/1990  "
      ]
     },
     "execution_count": 34,
     "metadata": {},
     "output_type": "execute_result"
    },
    {
     "name": "stdout",
     "output_type": "stream",
     "text": [
      "The bottom 10 records are\n"
     ]
    },
    {
     "data": {
      "text/html": [
       "<div>\n",
       "<style scoped>\n",
       "    .dataframe tbody tr th:only-of-type {\n",
       "        vertical-align: middle;\n",
       "    }\n",
       "\n",
       "    .dataframe tbody tr th {\n",
       "        vertical-align: top;\n",
       "    }\n",
       "\n",
       "    .dataframe thead th {\n",
       "        text-align: right;\n",
       "    }\n",
       "</style>\n",
       "<table border=\"1\" class=\"dataframe\">\n",
       "  <thead>\n",
       "    <tr style=\"text-align: right;\">\n",
       "      <th></th>\n",
       "      <th>stn_code</th>\n",
       "      <th>sampling_date</th>\n",
       "      <th>state</th>\n",
       "      <th>location</th>\n",
       "      <th>agency</th>\n",
       "      <th>type</th>\n",
       "      <th>so2</th>\n",
       "      <th>no2</th>\n",
       "      <th>rspm</th>\n",
       "      <th>spm</th>\n",
       "      <th>location_monitoring_station</th>\n",
       "      <th>pm2_5</th>\n",
       "      <th>date</th>\n",
       "    </tr>\n",
       "  </thead>\n",
       "  <tbody>\n",
       "    <tr>\n",
       "      <th>435732</th>\n",
       "      <td>SAMP</td>\n",
       "      <td>9/12/2015</td>\n",
       "      <td>West Bengal</td>\n",
       "      <td>ULUBERIA</td>\n",
       "      <td>West Bengal State Pollution Control Board</td>\n",
       "      <td>RIRUO</td>\n",
       "      <td>22.0</td>\n",
       "      <td>50.0</td>\n",
       "      <td>145.0</td>\n",
       "      <td>NaN</td>\n",
       "      <td>Inside Rampal Industries,ULUBERIA</td>\n",
       "      <td>NaN</td>\n",
       "      <td>12/9/2015</td>\n",
       "    </tr>\n",
       "    <tr>\n",
       "      <th>435733</th>\n",
       "      <td>SAMP</td>\n",
       "      <td>12/12/2015</td>\n",
       "      <td>West Bengal</td>\n",
       "      <td>ULUBERIA</td>\n",
       "      <td>West Bengal State Pollution Control Board</td>\n",
       "      <td>RIRUO</td>\n",
       "      <td>34.0</td>\n",
       "      <td>61.0</td>\n",
       "      <td>161.0</td>\n",
       "      <td>NaN</td>\n",
       "      <td>Inside Rampal Industries,ULUBERIA</td>\n",
       "      <td>NaN</td>\n",
       "      <td>12/12/2015</td>\n",
       "    </tr>\n",
       "    <tr>\n",
       "      <th>435734</th>\n",
       "      <td>SAMP</td>\n",
       "      <td>15-12-15</td>\n",
       "      <td>West Bengal</td>\n",
       "      <td>ULUBERIA</td>\n",
       "      <td>West Bengal State Pollution Control Board</td>\n",
       "      <td>RIRUO</td>\n",
       "      <td>20.0</td>\n",
       "      <td>44.0</td>\n",
       "      <td>148.0</td>\n",
       "      <td>NaN</td>\n",
       "      <td>Inside Rampal Industries,ULUBERIA</td>\n",
       "      <td>NaN</td>\n",
       "      <td>12/15/2015</td>\n",
       "    </tr>\n",
       "    <tr>\n",
       "      <th>435735</th>\n",
       "      <td>SAMP</td>\n",
       "      <td>18-12-15</td>\n",
       "      <td>West Bengal</td>\n",
       "      <td>ULUBERIA</td>\n",
       "      <td>West Bengal State Pollution Control Board</td>\n",
       "      <td>RIRUO</td>\n",
       "      <td>17.0</td>\n",
       "      <td>44.0</td>\n",
       "      <td>131.0</td>\n",
       "      <td>NaN</td>\n",
       "      <td>Inside Rampal Industries,ULUBERIA</td>\n",
       "      <td>NaN</td>\n",
       "      <td>12/18/2015</td>\n",
       "    </tr>\n",
       "    <tr>\n",
       "      <th>435736</th>\n",
       "      <td>SAMP</td>\n",
       "      <td>21-12-15</td>\n",
       "      <td>West Bengal</td>\n",
       "      <td>ULUBERIA</td>\n",
       "      <td>West Bengal State Pollution Control Board</td>\n",
       "      <td>RIRUO</td>\n",
       "      <td>18.0</td>\n",
       "      <td>45.0</td>\n",
       "      <td>140.0</td>\n",
       "      <td>NaN</td>\n",
       "      <td>Inside Rampal Industries,ULUBERIA</td>\n",
       "      <td>NaN</td>\n",
       "      <td>12/21/2015</td>\n",
       "    </tr>\n",
       "    <tr>\n",
       "      <th>435737</th>\n",
       "      <td>SAMP</td>\n",
       "      <td>24-12-15</td>\n",
       "      <td>West Bengal</td>\n",
       "      <td>ULUBERIA</td>\n",
       "      <td>West Bengal State Pollution Control Board</td>\n",
       "      <td>RIRUO</td>\n",
       "      <td>22.0</td>\n",
       "      <td>50.0</td>\n",
       "      <td>143.0</td>\n",
       "      <td>NaN</td>\n",
       "      <td>Inside Rampal Industries,ULUBERIA</td>\n",
       "      <td>NaN</td>\n",
       "      <td>12/24/2015</td>\n",
       "    </tr>\n",
       "    <tr>\n",
       "      <th>435738</th>\n",
       "      <td>SAMP</td>\n",
       "      <td>29-12-15</td>\n",
       "      <td>West Bengal</td>\n",
       "      <td>ULUBERIA</td>\n",
       "      <td>West Bengal State Pollution Control Board</td>\n",
       "      <td>RIRUO</td>\n",
       "      <td>20.0</td>\n",
       "      <td>46.0</td>\n",
       "      <td>171.0</td>\n",
       "      <td>NaN</td>\n",
       "      <td>Inside Rampal Industries,ULUBERIA</td>\n",
       "      <td>NaN</td>\n",
       "      <td>12/29/2015</td>\n",
       "    </tr>\n",
       "    <tr>\n",
       "      <th>435739</th>\n",
       "      <td>NaN</td>\n",
       "      <td>NaN</td>\n",
       "      <td>andaman-and-nicobar-islands</td>\n",
       "      <td>NaN</td>\n",
       "      <td>NaN</td>\n",
       "      <td>NaN</td>\n",
       "      <td>NaN</td>\n",
       "      <td>NaN</td>\n",
       "      <td>NaN</td>\n",
       "      <td>NaN</td>\n",
       "      <td>NaN</td>\n",
       "      <td>NaN</td>\n",
       "      <td>NaN</td>\n",
       "    </tr>\n",
       "    <tr>\n",
       "      <th>435740</th>\n",
       "      <td>NaN</td>\n",
       "      <td>NaN</td>\n",
       "      <td>Lakshadweep</td>\n",
       "      <td>NaN</td>\n",
       "      <td>NaN</td>\n",
       "      <td>NaN</td>\n",
       "      <td>NaN</td>\n",
       "      <td>NaN</td>\n",
       "      <td>NaN</td>\n",
       "      <td>NaN</td>\n",
       "      <td>NaN</td>\n",
       "      <td>NaN</td>\n",
       "      <td>NaN</td>\n",
       "    </tr>\n",
       "    <tr>\n",
       "      <th>435741</th>\n",
       "      <td>NaN</td>\n",
       "      <td>NaN</td>\n",
       "      <td>Tripura</td>\n",
       "      <td>NaN</td>\n",
       "      <td>NaN</td>\n",
       "      <td>NaN</td>\n",
       "      <td>NaN</td>\n",
       "      <td>NaN</td>\n",
       "      <td>NaN</td>\n",
       "      <td>NaN</td>\n",
       "      <td>NaN</td>\n",
       "      <td>NaN</td>\n",
       "      <td>NaN</td>\n",
       "    </tr>\n",
       "  </tbody>\n",
       "</table>\n",
       "</div>"
      ],
      "text/plain": [
       "       stn_code sampling_date                        state  location  \\\n",
       "435732     SAMP     9/12/2015                  West Bengal  ULUBERIA   \n",
       "435733     SAMP    12/12/2015                  West Bengal  ULUBERIA   \n",
       "435734     SAMP      15-12-15                  West Bengal  ULUBERIA   \n",
       "435735     SAMP      18-12-15                  West Bengal  ULUBERIA   \n",
       "435736     SAMP      21-12-15                  West Bengal  ULUBERIA   \n",
       "435737     SAMP      24-12-15                  West Bengal  ULUBERIA   \n",
       "435738     SAMP      29-12-15                  West Bengal  ULUBERIA   \n",
       "435739      NaN           NaN  andaman-and-nicobar-islands       NaN   \n",
       "435740      NaN           NaN                  Lakshadweep       NaN   \n",
       "435741      NaN           NaN                      Tripura       NaN   \n",
       "\n",
       "                                           agency   type   so2   no2   rspm  \\\n",
       "435732  West Bengal State Pollution Control Board  RIRUO  22.0  50.0  145.0   \n",
       "435733  West Bengal State Pollution Control Board  RIRUO  34.0  61.0  161.0   \n",
       "435734  West Bengal State Pollution Control Board  RIRUO  20.0  44.0  148.0   \n",
       "435735  West Bengal State Pollution Control Board  RIRUO  17.0  44.0  131.0   \n",
       "435736  West Bengal State Pollution Control Board  RIRUO  18.0  45.0  140.0   \n",
       "435737  West Bengal State Pollution Control Board  RIRUO  22.0  50.0  143.0   \n",
       "435738  West Bengal State Pollution Control Board  RIRUO  20.0  46.0  171.0   \n",
       "435739                                        NaN    NaN   NaN   NaN    NaN   \n",
       "435740                                        NaN    NaN   NaN   NaN    NaN   \n",
       "435741                                        NaN    NaN   NaN   NaN    NaN   \n",
       "\n",
       "        spm        location_monitoring_station  pm2_5        date  \n",
       "435732  NaN  Inside Rampal Industries,ULUBERIA    NaN   12/9/2015  \n",
       "435733  NaN  Inside Rampal Industries,ULUBERIA    NaN  12/12/2015  \n",
       "435734  NaN  Inside Rampal Industries,ULUBERIA    NaN  12/15/2015  \n",
       "435735  NaN  Inside Rampal Industries,ULUBERIA    NaN  12/18/2015  \n",
       "435736  NaN  Inside Rampal Industries,ULUBERIA    NaN  12/21/2015  \n",
       "435737  NaN  Inside Rampal Industries,ULUBERIA    NaN  12/24/2015  \n",
       "435738  NaN  Inside Rampal Industries,ULUBERIA    NaN  12/29/2015  \n",
       "435739  NaN                                NaN    NaN         NaN  \n",
       "435740  NaN                                NaN    NaN         NaN  \n",
       "435741  NaN                                NaN    NaN         NaN  "
      ]
     },
     "execution_count": 34,
     "metadata": {},
     "output_type": "execute_result"
    }
   ],
   "source": [
    "# Your code for this section here ...\n",
    "# As I mentioned before, the InteractiveShell package allows me to show all the results in one cell\n",
    "print('The descriptive statistics for numeric variables is')\n",
    "india_df.describe()\n",
    "print('The shape of the csv is')\n",
    "india_df.shape\n",
    "print('The count of each variable is')\n",
    "india_df.count()\n",
    "print('The count of null value for each variable is')\n",
    "india_df.isnull().sum()\n",
    "print('The info for each variable is')\n",
    "india_df.info()\n",
    "print('The top 10 records are')\n",
    "india_df.head(10)\n",
    "print('The bottom 10 records are')\n",
    "india_df.tail(10)"
   ]
  },
  {
   "cell_type": "markdown",
   "metadata": {
    "colab_type": "text",
    "id": "nfWzeTiapxGQ"
   },
   "source": [
    "## Cleansing the dataset\n",
    "### Dropping of less valued columns:\n",
    "1. stn_code, agency, sampling_date, location_monitoring_agency do not add much value to the dataset in terms of information. Therefore, we can drop those columns.\n",
    "\n",
    "2. Dropping rows where no date is available."
   ]
  },
  {
   "cell_type": "code",
   "execution_count": 3,
   "metadata": {
    "colab": {},
    "colab_type": "code",
    "id": "suZe0DrKpxGR"
   },
   "outputs": [],
   "source": [
    "# Cleaning up the data\n",
    "\n",
    "#dropping columns that aren't required\n",
    "\n",
    "# To drop the columns, you would have to put the parameter \"axis=1\"\n",
    "\n",
    "india_df.drop(['stn_code', 'agency', 'sampling_date', 'location_monitoring_station'],axis=1,inplace=True)\n",
    "\n",
    "# dropping rows where no date is available\n",
    "\n",
    "# The dropna method has a parameter called \"subset\" which could let you specify the columns to drop null values\n",
    "india_df.dropna(subset=['date'],inplace=True)"
   ]
  },
  {
   "cell_type": "code",
   "execution_count": 8,
   "metadata": {
    "colab": {
     "base_uri": "https://localhost:8080/",
     "height": 70
    },
    "colab_type": "code",
    "id": "PD4Q8D7XpxGU",
    "outputId": "509859f4-bd9f-4b62-e9de-2d9e5a498d04"
   },
   "outputs": [
    {
     "data": {
      "text/plain": [
       "Index(['state', 'location', 'type', 'so2', 'no2', 'rspm', 'spm', 'pm2_5',\n",
       "       'date'],\n",
       "      dtype='object')"
      ]
     },
     "execution_count": 8,
     "metadata": {},
     "output_type": "execute_result"
    }
   ],
   "source": [
    "# displaying final columns (data.columns)\n",
    "\n",
    "india_df.columns"
   ]
  },
  {
   "cell_type": "markdown",
   "metadata": {
    "colab_type": "text",
    "id": "893Qpw2fpxGZ"
   },
   "source": [
    "### Changing the types to uniform format:\n",
    "\n",
    "Notice that the ‘type’ column has values such as ‘Industrial Area’ and ‘Industrial Areas’ — both actually mean the same, so let’s remove such type of stuff and make it uniform. Replace the 'type' values with standard codes as follows:\n",
    "\n",
    "types = {\n",
    "    \"Residential\": \"R\",\n",
    "    \"Residential and others\": \"RO\",\n",
    "    \"Residential, Rural and other Areas\": \"RRO\",\n",
    "    \"Industrial Area\": \"I\",\n",
    "    \"Industrial Areas\": \"I\",\n",
    "    \"Industrial\": \"I\",\n",
    "    \"Sensitive Area\": \"S\",\n",
    "    \"Sensitive Areas\": \"S\",\n",
    "    \"Sensitive\": \"S\",\n",
    "    np.nan: \"RRO\"\n",
    "}\n",
    "\n",
    "data.type = data.type.replace(types)"
   ]
  },
  {
   "cell_type": "code",
   "execution_count": 4,
   "metadata": {
    "colab": {},
    "colab_type": "code",
    "id": "6N0pRY24pxGa"
   },
   "outputs": [],
   "source": [
    "# ... Your code here\n",
    "\n",
    "# Instead of writing \"replace\" one by one, dictionary would be a better way to code\n",
    "types = {\"Residential\": \"R\", \"Residential and others\": \"RO\", \n",
    "         \"Residential, Rural and other Areas\": \"RRO\", \n",
    "         \"Industrial Area\": \"I\", \n",
    "         \"Industrial Areas\": \"I\", \n",
    "         \"Industrial\": \"I\", \n",
    "         \"Sensitive Area\": \"S\",\n",
    "         \"Sensitive Areas\": \"S\", \n",
    "         \"Sensitive\": \"S\", \n",
    "         np.nan: \"RRO\" }\n",
    "\n",
    "# To be noticed that you could put \"inplace = True\", instead of putting back to the Series\n",
    "india_df['type'] = india_df['type'].replace(types)"
   ]
  },
  {
   "cell_type": "code",
   "execution_count": 10,
   "metadata": {
    "colab": {
     "base_uri": "https://localhost:8080/",
     "height": 343
    },
    "colab_type": "code",
    "id": "FjNYod2kpxGc",
    "outputId": "d0c1debc-cfe7-4a1a-8205-32fd4271e331"
   },
   "outputs": [
    {
     "data": {
      "text/html": [
       "<div>\n",
       "<style scoped>\n",
       "    .dataframe tbody tr th:only-of-type {\n",
       "        vertical-align: middle;\n",
       "    }\n",
       "\n",
       "    .dataframe tbody tr th {\n",
       "        vertical-align: top;\n",
       "    }\n",
       "\n",
       "    .dataframe thead th {\n",
       "        text-align: right;\n",
       "    }\n",
       "</style>\n",
       "<table border=\"1\" class=\"dataframe\">\n",
       "  <thead>\n",
       "    <tr style=\"text-align: right;\">\n",
       "      <th></th>\n",
       "      <th>state</th>\n",
       "      <th>location</th>\n",
       "      <th>type</th>\n",
       "      <th>so2</th>\n",
       "      <th>no2</th>\n",
       "      <th>rspm</th>\n",
       "      <th>spm</th>\n",
       "      <th>pm2_5</th>\n",
       "      <th>date</th>\n",
       "    </tr>\n",
       "  </thead>\n",
       "  <tbody>\n",
       "    <tr>\n",
       "      <th>0</th>\n",
       "      <td>Andhra Pradesh</td>\n",
       "      <td>Hyderabad</td>\n",
       "      <td>RRO</td>\n",
       "      <td>4.8</td>\n",
       "      <td>17.4</td>\n",
       "      <td>NaN</td>\n",
       "      <td>NaN</td>\n",
       "      <td>NaN</td>\n",
       "      <td>2/1/1990</td>\n",
       "    </tr>\n",
       "    <tr>\n",
       "      <th>1</th>\n",
       "      <td>Andhra Pradesh</td>\n",
       "      <td>Hyderabad</td>\n",
       "      <td>I</td>\n",
       "      <td>3.1</td>\n",
       "      <td>7.0</td>\n",
       "      <td>NaN</td>\n",
       "      <td>NaN</td>\n",
       "      <td>NaN</td>\n",
       "      <td>2/1/1990</td>\n",
       "    </tr>\n",
       "    <tr>\n",
       "      <th>2</th>\n",
       "      <td>Andhra Pradesh</td>\n",
       "      <td>Hyderabad</td>\n",
       "      <td>RRO</td>\n",
       "      <td>6.2</td>\n",
       "      <td>28.5</td>\n",
       "      <td>NaN</td>\n",
       "      <td>NaN</td>\n",
       "      <td>NaN</td>\n",
       "      <td>2/1/1990</td>\n",
       "    </tr>\n",
       "    <tr>\n",
       "      <th>3</th>\n",
       "      <td>Andhra Pradesh</td>\n",
       "      <td>Hyderabad</td>\n",
       "      <td>RRO</td>\n",
       "      <td>6.3</td>\n",
       "      <td>14.7</td>\n",
       "      <td>NaN</td>\n",
       "      <td>NaN</td>\n",
       "      <td>NaN</td>\n",
       "      <td>3/1/1990</td>\n",
       "    </tr>\n",
       "    <tr>\n",
       "      <th>4</th>\n",
       "      <td>Andhra Pradesh</td>\n",
       "      <td>Hyderabad</td>\n",
       "      <td>I</td>\n",
       "      <td>4.7</td>\n",
       "      <td>7.5</td>\n",
       "      <td>NaN</td>\n",
       "      <td>NaN</td>\n",
       "      <td>NaN</td>\n",
       "      <td>3/1/1990</td>\n",
       "    </tr>\n",
       "    <tr>\n",
       "      <th>5</th>\n",
       "      <td>Andhra Pradesh</td>\n",
       "      <td>Hyderabad</td>\n",
       "      <td>RRO</td>\n",
       "      <td>6.4</td>\n",
       "      <td>25.7</td>\n",
       "      <td>NaN</td>\n",
       "      <td>NaN</td>\n",
       "      <td>NaN</td>\n",
       "      <td>3/1/1990</td>\n",
       "    </tr>\n",
       "    <tr>\n",
       "      <th>6</th>\n",
       "      <td>Andhra Pradesh</td>\n",
       "      <td>Hyderabad</td>\n",
       "      <td>RRO</td>\n",
       "      <td>5.4</td>\n",
       "      <td>17.1</td>\n",
       "      <td>NaN</td>\n",
       "      <td>NaN</td>\n",
       "      <td>NaN</td>\n",
       "      <td>4/1/1990</td>\n",
       "    </tr>\n",
       "    <tr>\n",
       "      <th>7</th>\n",
       "      <td>Andhra Pradesh</td>\n",
       "      <td>Hyderabad</td>\n",
       "      <td>I</td>\n",
       "      <td>4.7</td>\n",
       "      <td>8.7</td>\n",
       "      <td>NaN</td>\n",
       "      <td>NaN</td>\n",
       "      <td>NaN</td>\n",
       "      <td>4/1/1990</td>\n",
       "    </tr>\n",
       "    <tr>\n",
       "      <th>8</th>\n",
       "      <td>Andhra Pradesh</td>\n",
       "      <td>Hyderabad</td>\n",
       "      <td>RRO</td>\n",
       "      <td>4.2</td>\n",
       "      <td>23.0</td>\n",
       "      <td>NaN</td>\n",
       "      <td>NaN</td>\n",
       "      <td>NaN</td>\n",
       "      <td>4/1/1990</td>\n",
       "    </tr>\n",
       "    <tr>\n",
       "      <th>9</th>\n",
       "      <td>Andhra Pradesh</td>\n",
       "      <td>Hyderabad</td>\n",
       "      <td>I</td>\n",
       "      <td>4.0</td>\n",
       "      <td>8.9</td>\n",
       "      <td>NaN</td>\n",
       "      <td>NaN</td>\n",
       "      <td>NaN</td>\n",
       "      <td>5/1/1990</td>\n",
       "    </tr>\n",
       "  </tbody>\n",
       "</table>\n",
       "</div>"
      ],
      "text/plain": [
       "            state   location type  so2   no2  rspm  spm  pm2_5      date\n",
       "0  Andhra Pradesh  Hyderabad  RRO  4.8  17.4   NaN  NaN    NaN  2/1/1990\n",
       "1  Andhra Pradesh  Hyderabad    I  3.1   7.0   NaN  NaN    NaN  2/1/1990\n",
       "2  Andhra Pradesh  Hyderabad  RRO  6.2  28.5   NaN  NaN    NaN  2/1/1990\n",
       "3  Andhra Pradesh  Hyderabad  RRO  6.3  14.7   NaN  NaN    NaN  3/1/1990\n",
       "4  Andhra Pradesh  Hyderabad    I  4.7   7.5   NaN  NaN    NaN  3/1/1990\n",
       "5  Andhra Pradesh  Hyderabad  RRO  6.4  25.7   NaN  NaN    NaN  3/1/1990\n",
       "6  Andhra Pradesh  Hyderabad  RRO  5.4  17.1   NaN  NaN    NaN  4/1/1990\n",
       "7  Andhra Pradesh  Hyderabad    I  4.7   8.7   NaN  NaN    NaN  4/1/1990\n",
       "8  Andhra Pradesh  Hyderabad  RRO  4.2  23.0   NaN  NaN    NaN  4/1/1990\n",
       "9  Andhra Pradesh  Hyderabad    I  4.0   8.9   NaN  NaN    NaN  5/1/1990"
      ]
     },
     "execution_count": 10,
     "metadata": {},
     "output_type": "execute_result"
    }
   ],
   "source": [
    "# Display top 10 records after codification of 'types'\n",
    "india_df.head(10)"
   ]
  },
  {
   "cell_type": "markdown",
   "metadata": {
    "colab_type": "text",
    "id": "H-wAssfmpxGe"
   },
   "source": [
    "### Creating a year column\n",
    "To view the trend over a period of time, we need year values for each row and also when you see in most of the values in date column only has ‘year’ value. So, let’s create a new column holding year values. Convert the column to 'datetime' type and extract the year to populate the new column. Display Top 5 records after the conversion."
   ]
  },
  {
   "cell_type": "code",
   "execution_count": 5,
   "metadata": {
    "colab": {
     "base_uri": "https://localhost:8080/",
     "height": 195
    },
    "colab_type": "code",
    "id": "MthGXLhlpxGf",
    "outputId": "fe666225-bae5-49a4-c47b-238b99680622"
   },
   "outputs": [
    {
     "data": {
      "text/html": [
       "<div>\n",
       "<style scoped>\n",
       "    .dataframe tbody tr th:only-of-type {\n",
       "        vertical-align: middle;\n",
       "    }\n",
       "\n",
       "    .dataframe tbody tr th {\n",
       "        vertical-align: top;\n",
       "    }\n",
       "\n",
       "    .dataframe thead th {\n",
       "        text-align: right;\n",
       "    }\n",
       "</style>\n",
       "<table border=\"1\" class=\"dataframe\">\n",
       "  <thead>\n",
       "    <tr style=\"text-align: right;\">\n",
       "      <th></th>\n",
       "      <th>state</th>\n",
       "      <th>location</th>\n",
       "      <th>type</th>\n",
       "      <th>so2</th>\n",
       "      <th>no2</th>\n",
       "      <th>rspm</th>\n",
       "      <th>spm</th>\n",
       "      <th>pm2_5</th>\n",
       "      <th>date</th>\n",
       "      <th>year</th>\n",
       "    </tr>\n",
       "  </thead>\n",
       "  <tbody>\n",
       "    <tr>\n",
       "      <th>0</th>\n",
       "      <td>Andhra Pradesh</td>\n",
       "      <td>Hyderabad</td>\n",
       "      <td>RRO</td>\n",
       "      <td>4.8</td>\n",
       "      <td>17.4</td>\n",
       "      <td>NaN</td>\n",
       "      <td>NaN</td>\n",
       "      <td>NaN</td>\n",
       "      <td>1990-02-01</td>\n",
       "      <td>1990</td>\n",
       "    </tr>\n",
       "    <tr>\n",
       "      <th>1</th>\n",
       "      <td>Andhra Pradesh</td>\n",
       "      <td>Hyderabad</td>\n",
       "      <td>I</td>\n",
       "      <td>3.1</td>\n",
       "      <td>7.0</td>\n",
       "      <td>NaN</td>\n",
       "      <td>NaN</td>\n",
       "      <td>NaN</td>\n",
       "      <td>1990-02-01</td>\n",
       "      <td>1990</td>\n",
       "    </tr>\n",
       "    <tr>\n",
       "      <th>2</th>\n",
       "      <td>Andhra Pradesh</td>\n",
       "      <td>Hyderabad</td>\n",
       "      <td>RRO</td>\n",
       "      <td>6.2</td>\n",
       "      <td>28.5</td>\n",
       "      <td>NaN</td>\n",
       "      <td>NaN</td>\n",
       "      <td>NaN</td>\n",
       "      <td>1990-02-01</td>\n",
       "      <td>1990</td>\n",
       "    </tr>\n",
       "    <tr>\n",
       "      <th>3</th>\n",
       "      <td>Andhra Pradesh</td>\n",
       "      <td>Hyderabad</td>\n",
       "      <td>RRO</td>\n",
       "      <td>6.3</td>\n",
       "      <td>14.7</td>\n",
       "      <td>NaN</td>\n",
       "      <td>NaN</td>\n",
       "      <td>NaN</td>\n",
       "      <td>1990-03-01</td>\n",
       "      <td>1990</td>\n",
       "    </tr>\n",
       "    <tr>\n",
       "      <th>4</th>\n",
       "      <td>Andhra Pradesh</td>\n",
       "      <td>Hyderabad</td>\n",
       "      <td>I</td>\n",
       "      <td>4.7</td>\n",
       "      <td>7.5</td>\n",
       "      <td>NaN</td>\n",
       "      <td>NaN</td>\n",
       "      <td>NaN</td>\n",
       "      <td>1990-03-01</td>\n",
       "      <td>1990</td>\n",
       "    </tr>\n",
       "  </tbody>\n",
       "</table>\n",
       "</div>"
      ],
      "text/plain": [
       "            state   location type  so2   no2  rspm  spm  pm2_5       date  \\\n",
       "0  Andhra Pradesh  Hyderabad  RRO  4.8  17.4   NaN  NaN    NaN 1990-02-01   \n",
       "1  Andhra Pradesh  Hyderabad    I  3.1   7.0   NaN  NaN    NaN 1990-02-01   \n",
       "2  Andhra Pradesh  Hyderabad  RRO  6.2  28.5   NaN  NaN    NaN 1990-02-01   \n",
       "3  Andhra Pradesh  Hyderabad  RRO  6.3  14.7   NaN  NaN    NaN 1990-03-01   \n",
       "4  Andhra Pradesh  Hyderabad    I  4.7   7.5   NaN  NaN    NaN 1990-03-01   \n",
       "\n",
       "   year  \n",
       "0  1990  \n",
       "1  1990  \n",
       "2  1990  \n",
       "3  1990  \n",
       "4  1990  "
      ]
     },
     "execution_count": 5,
     "metadata": {},
     "output_type": "execute_result"
    }
   ],
   "source": [
    "# ... Your code here\n",
    "\n",
    "# there is no \"inplace=True\" for \"pd.to_datatime\"\n",
    "india_df[\"date\"]= pd.to_datetime(india_df[\"date\"])\n",
    "\n",
    "# Extract only the year from date and populate to a new column \"year\"\n",
    "india_df['year']=pd.DatetimeIndex(india_df['date']).year\n",
    "india_df.head()"
   ]
  },
  {
   "cell_type": "markdown",
   "metadata": {
    "colab_type": "text",
    "id": "TX6gALYSpxGh"
   },
   "source": [
    "### Handling Missing Values\n",
    "\n",
    "The column such as SO2, NO2, rspm, spm, pm2_5 are the ones which contribute much to our analysis. So, we need to remove null from those columns to avoid inaccuracy in the prediction.\n",
    "We use the Imputer from sklearn.preprocessing to fill the missing values in every column with the mean."
   ]
  },
  {
   "cell_type": "code",
   "execution_count": 6,
   "metadata": {
    "colab": {
     "base_uri": "https://localhost:8080/",
     "height": 210
    },
    "colab_type": "code",
    "id": "snqw6jTWpxGi",
    "outputId": "d72ffbc0-1051-48de-d3f2-1fb49f239a9d"
   },
   "outputs": [
    {
     "name": "stdout",
     "output_type": "stream",
     "text": [
      "<class 'pandas.core.frame.DataFrame'>\n",
      "Int64Index: 435735 entries, 0 to 435738\n",
      "Data columns (total 10 columns):\n",
      "state       435735 non-null object\n",
      "location    435735 non-null object\n",
      "type        435735 non-null object\n",
      "so2         435735 non-null float64\n",
      "no2         435735 non-null float64\n",
      "rspm        435735 non-null float64\n",
      "spm         435735 non-null float64\n",
      "pm2_5       435735 non-null float64\n",
      "date        435735 non-null datetime64[ns]\n",
      "year        435735 non-null int64\n",
      "dtypes: datetime64[ns](1), float64(5), int64(1), object(3)\n",
      "memory usage: 36.6+ MB\n"
     ]
    },
    {
     "data": {
      "text/plain": [
       "state       0\n",
       "location    0\n",
       "type        0\n",
       "so2         0\n",
       "no2         0\n",
       "rspm        0\n",
       "spm         0\n",
       "pm2_5       0\n",
       "date        0\n",
       "year        0\n",
       "dtype: int64"
      ]
     },
     "execution_count": 6,
     "metadata": {},
     "output_type": "execute_result"
    }
   ],
   "source": [
    "# define columns of importance, which shall be used reguarly (COLS = ....)\n",
    "# invoke SimpleImputer to fill missing values using 'mean' as the replacement strategy\n",
    "# Display data.info after the transformation\n",
    "# Display that there are no more missing values in the dataset\n",
    "\n",
    "# ... your code here\n",
    "\n",
    "# Define COLS\n",
    "COLS = ['so2','no2','rspm','spm','pm2_5']\n",
    "# Set imp as my SimpleImputer\n",
    "imp = SimpleImputer(missing_values=np.nan,strategy='mean')\n",
    "# fit the SimpleImputer to india_df for only COLS\n",
    "imp = imp.fit(india_df[COLS])\n",
    "# transform the fitted value to india_df\n",
    "india_df[COLS] = imp.transform(india_df[COLS])\n",
    "\n",
    "india_df.info()\n",
    "\n",
    "# There is no missing value after filling\n",
    "india_df.isna().sum()"
   ]
  },
  {
   "cell_type": "markdown",
   "metadata": {
    "colab_type": "text",
    "id": "cgNxy9gXpxGk"
   },
   "source": [
    "## Statewise Grouping of so2, no2, rspm, spm values\n",
    "\n",
    "Calculate median values of so2, no2, rspm, spm for each state and display in (a) as table (b) bar chart, with values sorted in ascending order. Separate section for each of the component. Use matplotlib()."
   ]
  },
  {
   "cell_type": "code",
   "execution_count": 8,
   "metadata": {},
   "outputs": [],
   "source": [
    "# For data visualization, I want to show only the charts instead of showing everything in the cell.\n",
    "# Therefore, I changed the \"InteractiveShell\" to \"last\"\n",
    "InteractiveShell.ast_node_interactivity = \"last\""
   ]
  },
  {
   "cell_type": "markdown",
   "metadata": {
    "colab_type": "text",
    "id": "QIdnDpSqpxGl"
   },
   "source": [
    "### so2 status"
   ]
  },
  {
   "cell_type": "code",
   "execution_count": 9,
   "metadata": {
    "colab": {
     "base_uri": "https://localhost:8080/",
     "height": 365
    },
    "colab_type": "code",
    "id": "ribx9YQ-pxGm",
    "outputId": "9fd35e68-7b85-4859-f495-02eb0ea0c3c6"
   },
   "outputs": [
    {
     "data": {
      "image/png": "[encoded data removed]",
      "text/plain": [
       "<Figure size 432x288 with 1 Axes>"
      ]
     },
     "metadata": {
      "needs_background": "light"
     },
     "output_type": "display_data"
    }
   ],
   "source": [
    "# ... Your code here\n",
    "\n",
    "# Group by the state and calculate the median for SO2 and sort in ascending order\n",
    "a = india_df.groupby('state')['so2'].median().sort_values(ascending=True)\n",
    "\n",
    "# plt.bar(x-axis, y-axis)\n",
    "b = plt.bar(a.index,height=a)\n",
    "\n",
    "# rotate the string values in x-axis so that they would not be overlapped\n",
    "plt.xticks(rotation=90)\n",
    "plt.show()"
   ]
  },
  {
   "cell_type": "markdown",
   "metadata": {
    "colab_type": "text",
    "id": "CMKCYolSpxGo"
   },
   "source": [
    "### no2 status"
   ]
  },
  {
   "cell_type": "code",
   "execution_count": 86,
   "metadata": {
    "colab": {
     "base_uri": "https://localhost:8080/",
     "height": 365
    },
    "colab_type": "code",
    "id": "tgxRDE_5pxGp",
    "outputId": "577cbbfb-94bd-4253-f18d-06cbb38708e2"
   },
   "outputs": [
    {
     "data": {
      "image/png": "[encoded data removed]",
      "text/plain": [
       "<Figure size 432x288 with 1 Axes>"
      ]
     },
     "metadata": {
      "tags": []
     },
     "output_type": "display_data"
    }
   ],
   "source": [
    "# ... Your code here\n",
    "\n",
    "# Group by the state and calculate the median for NO2 and sort in ascending order\n",
    "a = india_df.groupby('state')['no2'].median().sort_values(ascending=True)\n",
    "# plt.bar(x-axis, y-axis)\n",
    "b = plt.bar(a.index,height=a)\n",
    "\n",
    "# rotate the string values in x-axis so that they would not be overlapped\n",
    "plt.xticks(rotation=90)\n",
    "plt.show()"
   ]
  },
  {
   "cell_type": "markdown",
   "metadata": {
    "colab_type": "text",
    "id": "6_oI4rmwpxGr"
   },
   "source": [
    "### rspm status"
   ]
  },
  {
   "cell_type": "code",
   "execution_count": 87,
   "metadata": {
    "colab": {
     "base_uri": "https://localhost:8080/",
     "height": 365
    },
    "colab_type": "code",
    "id": "ZwJF33YopxGs",
    "outputId": "77546b46-3a06-4b66-a44c-453e44a47bc8"
   },
   "outputs": [
    {
     "data": {
      "image/png": "[encoded data removed]",
      "text/plain": [
       "<Figure size 432x288 with 1 Axes>"
      ]
     },
     "metadata": {
      "tags": []
     },
     "output_type": "display_data"
    }
   ],
   "source": [
    "# ... Your code here\n",
    "\n",
    "# Group by the state and calculate the median for RSPM and sort in ascending order\n",
    "a = india_df.groupby('state')['rspm'].median().sort_values(ascending=True)\n",
    "# plt.bar(x-axis, y-axis)\n",
    "b = plt.bar(a.index,height=a)\n",
    "\n",
    "# rotate the string values in x-axis so that they would not be overlapped\n",
    "plt.xticks(rotation=90)\n",
    "plt.show()"
   ]
  },
  {
   "cell_type": "markdown",
   "metadata": {
    "colab_type": "text",
    "id": "_7IEgQhUpxGv"
   },
   "source": [
    "### spm status"
   ]
  },
  {
   "cell_type": "code",
   "execution_count": 88,
   "metadata": {
    "colab": {
     "base_uri": "https://localhost:8080/",
     "height": 365
    },
    "colab_type": "code",
    "id": "8KUhYvS6pxGw",
    "outputId": "041d8102-b7ec-458d-f8d4-8baa62dbd727"
   },
   "outputs": [
    {
     "data": {
      "image/png": "[encoded data removed]",
      "text/plain": [
       "<Figure size 432x288 with 1 Axes>"
      ]
     },
     "metadata": {
      "tags": []
     },
     "output_type": "display_data"
    }
   ],
   "source": [
    "# ... Your code here\n",
    "\n",
    "# Group by the state and calculate the median for SPM and sort in ascending order\n",
    "a = india_df.groupby('state')['spm'].median().sort_values(ascending=True)\n",
    "# plt.bar(x-axis, y-axis)\n",
    "b = plt.bar(a.index,height=a)\n",
    "\n",
    "# rotate the string values in x-axis so that they would not be overlapped\n",
    "plt.xticks(rotation=90)\n",
    "plt.show()"
   ]
  },
  {
   "cell_type": "markdown",
   "metadata": {
    "colab_type": "text",
    "id": "jYYnpaZipxGy"
   },
   "source": [
    "### What is the yearly trend in a particular state, say ‘Andhra Pradesh’?\n",
    "\n",
    "Create a new dataframe containing the NO2, SO2, rspm, and spm data regarding state ‘Andhra Pradesh’ only and group it by ‘year’. Display top 5 records after."
   ]
  },
  {
   "cell_type": "code",
   "execution_count": 10,
   "metadata": {
    "colab": {
     "base_uri": "https://localhost:8080/",
     "height": 225
    },
    "colab_type": "code",
    "id": "YHHkaSqppxGy",
    "outputId": "6e18b9be-491e-43ba-b569-85bcaccc62a2"
   },
   "outputs": [
    {
     "data": {
      "text/html": [
       "<div>\n",
       "<style scoped>\n",
       "    .dataframe tbody tr th:only-of-type {\n",
       "        vertical-align: middle;\n",
       "    }\n",
       "\n",
       "    .dataframe tbody tr th {\n",
       "        vertical-align: top;\n",
       "    }\n",
       "\n",
       "    .dataframe thead th {\n",
       "        text-align: right;\n",
       "    }\n",
       "</style>\n",
       "<table border=\"1\" class=\"dataframe\">\n",
       "  <thead>\n",
       "    <tr style=\"text-align: right;\">\n",
       "      <th></th>\n",
       "      <th>no2</th>\n",
       "      <th>so2</th>\n",
       "      <th>rspm</th>\n",
       "      <th>spm</th>\n",
       "    </tr>\n",
       "    <tr>\n",
       "      <th>year</th>\n",
       "      <th></th>\n",
       "      <th></th>\n",
       "      <th></th>\n",
       "      <th></th>\n",
       "    </tr>\n",
       "  </thead>\n",
       "  <tbody>\n",
       "    <tr>\n",
       "      <th>1990</th>\n",
       "      <td>15.296552</td>\n",
       "      <td>8.868966</td>\n",
       "      <td>108.833091</td>\n",
       "      <td>165.469596</td>\n",
       "    </tr>\n",
       "    <tr>\n",
       "      <th>1991</th>\n",
       "      <td>18.827778</td>\n",
       "      <td>10.811111</td>\n",
       "      <td>108.833091</td>\n",
       "      <td>154.466208</td>\n",
       "    </tr>\n",
       "    <tr>\n",
       "      <th>1992</th>\n",
       "      <td>36.012866</td>\n",
       "      <td>19.766194</td>\n",
       "      <td>108.833091</td>\n",
       "      <td>210.643678</td>\n",
       "    </tr>\n",
       "    <tr>\n",
       "      <th>1993</th>\n",
       "      <td>15.961111</td>\n",
       "      <td>8.544444</td>\n",
       "      <td>108.833091</td>\n",
       "      <td>220.783480</td>\n",
       "    </tr>\n",
       "    <tr>\n",
       "      <th>1994</th>\n",
       "      <td>18.273016</td>\n",
       "      <td>10.760317</td>\n",
       "      <td>108.833091</td>\n",
       "      <td>177.965950</td>\n",
       "    </tr>\n",
       "  </tbody>\n",
       "</table>\n",
       "</div>"
      ],
      "text/plain": [
       "            no2        so2        rspm         spm\n",
       "year                                              \n",
       "1990  15.296552   8.868966  108.833091  165.469596\n",
       "1991  18.827778  10.811111  108.833091  154.466208\n",
       "1992  36.012866  19.766194  108.833091  210.643678\n",
       "1993  15.961111   8.544444  108.833091  220.783480\n",
       "1994  18.273016  10.760317  108.833091  177.965950"
      ]
     },
     "execution_count": 10,
     "metadata": {},
     "output_type": "execute_result"
    }
   ],
   "source": [
    "# ... Your code here\n",
    "\n",
    "# df.loc[rows,columns]\n",
    "# -> india_df.loc[The rows that are in Andhra Pradesh, The required columns]\n",
    "ap_state = india_df.loc[india_df['state']=='Andhra Pradesh',['no2','so2','rspm','spm','year']]\n",
    "\n",
    "# group by year and calculate the mean for these four columns\n",
    "ap_state_gb = ap_state.groupby('year')['no2','so2','rspm','spm'].mean()\n",
    "ap_state_gb.head()"
   ]
  },
  {
   "cell_type": "code",
   "execution_count": 11,
   "metadata": {
    "colab": {
     "base_uri": "https://localhost:8080/",
     "height": 501
    },
    "colab_type": "code",
    "id": "BPzs41J6pxG0",
    "outputId": "326c4e0c-59ec-4073-ea07-1a3f9be72b2f"
   },
   "outputs": [
    {
     "data": {
      "text/plain": [
       "<matplotlib.legend.Legend at 0x2552e2605f8>"
      ]
     },
     "execution_count": 11,
     "metadata": {},
     "output_type": "execute_result"
    },
    {
     "data": {
      "image/png": "[encoded data removed]",
      "text/plain": [
       "<Figure size 576x576 with 2 Axes>"
      ]
     },
     "metadata": {
      "needs_background": "light"
     },
     "output_type": "display_data"
    }
   ],
   "source": [
    "# Display yearly trend graph (year vs. value) in pairs: (a) so2 and no2 (b) rspm and spm. \n",
    "# So, you will display TWO graphs altogether.\n",
    "\n",
    "# ... Your code here\n",
    "\n",
    "# to set the figure size\n",
    "plt.figure(figsize=(8,8))\n",
    "\n",
    "# subplot allows me to display two plots in one\n",
    "# plt.subplot(row,columns,position)\n",
    "plt.subplot(2,1,1)\n",
    "# remember to give the label a name so that Python would know the correct legend \n",
    "plt.plot(ap_state_gb['no2'],label='NO2')\n",
    "plt.plot(ap_state_gb['so2'],label='SO2')\n",
    "plt.legend()\n",
    "plt.subplot(2,1,2)\n",
    "plt.plot(ap_state_gb['rspm'],label='RSPM',c='green')\n",
    "plt.plot(ap_state_gb['spm'],label='SPM',c='red')\n",
    "# To make the legend at the same side\n",
    "plt.legend(loc='center right')"
   ]
  },
  {
   "cell_type": "markdown",
   "metadata": {
    "colab_type": "text",
    "id": "S4ipc8wtpxG3"
   },
   "source": [
    "Do you find anythumg alarming? Explain what you can conclude from this Exploratory Data Analysis for the State of Andhra Pradesh. Enter your answer here \n",
    "\n",
    "The first thing that draws my attention is that there was a significant fluctuation in 1999 in the first chart. Before 1999, these two factors had a similar trend, which means that they might be generated at the same time. Nevertheless, after 1999, NO2 started to depart from S02 and increased for five years. This might mean that the government had spent more time and money on dealing with SO2 rather than NO2. Fortunately, NO2 had also dropped after 2006. Moreover, one thing the government should be aware of is that they both increased slightly in 2015. \n",
    "\n",
    "For the second chart, there are many missing values for RSPM and SPM because they are all replaced by their mean. However, we could still discover some patterns for these two factors. Firstly, SPM had dropped significantly from 1999 to 2002 but had increased dramatically after 2002. Secondly, RSPM has been decreasing over the years, which is good because RSPM is more dangerous to human health. Based on these two findings, I think the state government should pay more attention on how to reduce SPM to improve the air quality.\n"
   ]
  }
 ],
 "metadata": {
  "colab": {
   "name": "India Air Quality-CA01-Eric.ipynb",
   "provenance": [],
   "toc_visible": true
  },
  "kernelspec": {
   "display_name": "Python 3",
   "language": "python",
   "name": "python3"
  },
  "language_info": {
   "codemirror_mode": {
    "name": "ipython",
    "version": 3
   },
   "file_extension": ".py",
   "mimetype": "text/x-python",
   "name": "python",
   "nbconvert_exporter": "python",
   "pygments_lexer": "ipython3",
   "version": "3.7.3"
  }
 },
 "nbformat": 4,
 "nbformat_minor": 1
}
