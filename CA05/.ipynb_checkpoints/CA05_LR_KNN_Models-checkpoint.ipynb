{
 "cells": [
  {
   "cell_type": "markdown",
   "metadata": {},
   "source": [
    "# CA05-A-Logistic_Regression"
   ]
  },
  {
   "cell_type": "markdown",
   "metadata": {},
   "source": [
    "## Import Packages"
   ]
  },
  {
   "cell_type": "code",
   "execution_count": 6,
   "metadata": {},
   "outputs": [],
   "source": [
    "import pandas as pd\n",
    "import numpy as np\n",
    "import matplotlib.pyplot as plt\n",
    "from sklearn.linear_model import LogisticRegression\n",
    "from sklearn.metrics import accuracy_score, roc_curve, roc_auc_score\n",
    "from sklearn.model_selection import train_test_split\n",
    "from sklearn import preprocessing\n",
    "import seaborn as sns"
   ]
  },
  {
   "cell_type": "markdown",
   "metadata": {},
   "source": [
    "## Load Data and Build the Model"
   ]
  },
  {
   "cell_type": "code",
   "execution_count": 2,
   "metadata": {
    "scrolled": true
   },
   "outputs": [
    {
     "data": {
      "text/html": [
       "<div>\n",
       "<style scoped>\n",
       "    .dataframe tbody tr th:only-of-type {\n",
       "        vertical-align: middle;\n",
       "    }\n",
       "\n",
       "    .dataframe tbody tr th {\n",
       "        vertical-align: top;\n",
       "    }\n",
       "\n",
       "    .dataframe thead th {\n",
       "        text-align: right;\n",
       "    }\n",
       "</style>\n",
       "<table border=\"1\" class=\"dataframe\">\n",
       "  <thead>\n",
       "    <tr style=\"text-align: right;\">\n",
       "      <th></th>\n",
       "      <th>cvd_4types</th>\n",
       "      <th>age_s1</th>\n",
       "      <th>race</th>\n",
       "      <th>educat</th>\n",
       "      <th>mstat</th>\n",
       "      <th>hip</th>\n",
       "      <th>neck20</th>\n",
       "      <th>waist</th>\n",
       "      <th>av_weight_kg</th>\n",
       "      <th>cgpkyr</th>\n",
       "      <th>tea15</th>\n",
       "      <th>srhype</th>\n",
       "      <th>parrptdiab</th>\n",
       "      <th>bend25</th>\n",
       "      <th>happy25</th>\n",
       "      <th>tired25</th>\n",
       "      <th>hlthlm25</th>\n",
       "    </tr>\n",
       "  </thead>\n",
       "  <tbody>\n",
       "    <tr>\n",
       "      <th>0</th>\n",
       "      <td>0</td>\n",
       "      <td>54</td>\n",
       "      <td>1</td>\n",
       "      <td>2</td>\n",
       "      <td>1</td>\n",
       "      <td>110.0</td>\n",
       "      <td>40.0</td>\n",
       "      <td>108.0</td>\n",
       "      <td>87.5</td>\n",
       "      <td>34.0</td>\n",
       "      <td>0</td>\n",
       "      <td>1</td>\n",
       "      <td>0</td>\n",
       "      <td>1</td>\n",
       "      <td>2</td>\n",
       "      <td>3</td>\n",
       "      <td>4</td>\n",
       "    </tr>\n",
       "    <tr>\n",
       "      <th>1</th>\n",
       "      <td>0</td>\n",
       "      <td>56</td>\n",
       "      <td>3</td>\n",
       "      <td>2</td>\n",
       "      <td>1</td>\n",
       "      <td>113.0</td>\n",
       "      <td>34.0</td>\n",
       "      <td>107.0</td>\n",
       "      <td>83.5</td>\n",
       "      <td>0.0</td>\n",
       "      <td>0</td>\n",
       "      <td>0</td>\n",
       "      <td>0</td>\n",
       "      <td>2</td>\n",
       "      <td>2</td>\n",
       "      <td>1</td>\n",
       "      <td>3</td>\n",
       "    </tr>\n",
       "    <tr>\n",
       "      <th>2</th>\n",
       "      <td>0</td>\n",
       "      <td>54</td>\n",
       "      <td>1</td>\n",
       "      <td>3</td>\n",
       "      <td>1</td>\n",
       "      <td>110.0</td>\n",
       "      <td>44.5</td>\n",
       "      <td>105.0</td>\n",
       "      <td>86.2</td>\n",
       "      <td>49.5</td>\n",
       "      <td>0</td>\n",
       "      <td>0</td>\n",
       "      <td>0</td>\n",
       "      <td>3</td>\n",
       "      <td>2</td>\n",
       "      <td>6</td>\n",
       "      <td>4</td>\n",
       "    </tr>\n",
       "    <tr>\n",
       "      <th>3</th>\n",
       "      <td>0</td>\n",
       "      <td>54</td>\n",
       "      <td>1</td>\n",
       "      <td>3</td>\n",
       "      <td>1</td>\n",
       "      <td>129.0</td>\n",
       "      <td>42.5</td>\n",
       "      <td>110.0</td>\n",
       "      <td>89.1</td>\n",
       "      <td>0.0</td>\n",
       "      <td>0</td>\n",
       "      <td>0</td>\n",
       "      <td>0</td>\n",
       "      <td>3</td>\n",
       "      <td>2</td>\n",
       "      <td>1</td>\n",
       "      <td>3</td>\n",
       "    </tr>\n",
       "    <tr>\n",
       "      <th>4</th>\n",
       "      <td>0</td>\n",
       "      <td>51</td>\n",
       "      <td>3</td>\n",
       "      <td>2</td>\n",
       "      <td>1</td>\n",
       "      <td>122.0</td>\n",
       "      <td>37.0</td>\n",
       "      <td>113.0</td>\n",
       "      <td>81.3</td>\n",
       "      <td>0.0</td>\n",
       "      <td>0</td>\n",
       "      <td>0</td>\n",
       "      <td>0</td>\n",
       "      <td>2</td>\n",
       "      <td>1</td>\n",
       "      <td>1</td>\n",
       "      <td>2</td>\n",
       "    </tr>\n",
       "  </tbody>\n",
       "</table>\n",
       "</div>"
      ],
      "text/plain": [
       "   cvd_4types  age_s1  race  educat  mstat    hip  neck20  waist  \\\n",
       "0           0      54     1       2      1  110.0    40.0  108.0   \n",
       "1           0      56     3       2      1  113.0    34.0  107.0   \n",
       "2           0      54     1       3      1  110.0    44.5  105.0   \n",
       "3           0      54     1       3      1  129.0    42.5  110.0   \n",
       "4           0      51     3       2      1  122.0    37.0  113.0   \n",
       "\n",
       "   av_weight_kg  cgpkyr  tea15  srhype  parrptdiab  bend25  happy25  tired25  \\\n",
       "0          87.5    34.0      0       1           0       1        2        3   \n",
       "1          83.5     0.0      0       0           0       2        2        1   \n",
       "2          86.2    49.5      0       0           0       3        2        6   \n",
       "3          89.1     0.0      0       0           0       3        2        1   \n",
       "4          81.3     0.0      0       0           0       2        1        1   \n",
       "\n",
       "   hlthlm25  \n",
       "0         4  \n",
       "1         3  \n",
       "2         4  \n",
       "3         3  \n",
       "4         2  "
      ]
     },
     "execution_count": 2,
     "metadata": {},
     "output_type": "execute_result"
    }
   ],
   "source": [
    "df = pd.read_csv('https://github.com/ArinB/CA05-B-Logistic-Regression/raw/master/cvd_data.csv')\n",
    "df.head()"
   ]
  },
  {
   "cell_type": "code",
   "execution_count": 4,
   "metadata": {},
   "outputs": [
    {
     "name": "stdout",
     "output_type": "stream",
     "text": [
      "<class 'pandas.core.frame.DataFrame'>\n",
      "RangeIndex: 3242 entries, 0 to 3241\n",
      "Data columns (total 17 columns):\n",
      "cvd_4types      3242 non-null int64\n",
      "age_s1          3242 non-null int64\n",
      "race            3242 non-null int64\n",
      "educat          3242 non-null int64\n",
      "mstat           3242 non-null int64\n",
      "hip             3242 non-null float64\n",
      "neck20          3242 non-null float64\n",
      "waist           3242 non-null float64\n",
      "av_weight_kg    3242 non-null float64\n",
      "cgpkyr          3242 non-null float64\n",
      "tea15           3242 non-null int64\n",
      "srhype          3242 non-null int64\n",
      "parrptdiab      3242 non-null int64\n",
      "bend25          3242 non-null int64\n",
      "happy25         3242 non-null int64\n",
      "tired25         3242 non-null int64\n",
      "hlthlm25        3242 non-null int64\n",
      "dtypes: float64(5), int64(12)\n",
      "memory usage: 430.7 KB\n"
     ]
    }
   ],
   "source": [
    "df.info()"
   ]
  },
  {
   "cell_type": "code",
   "execution_count": 5,
   "metadata": {},
   "outputs": [
    {
     "data": {
      "text/html": [
       "<div>\n",
       "<style scoped>\n",
       "    .dataframe tbody tr th:only-of-type {\n",
       "        vertical-align: middle;\n",
       "    }\n",
       "\n",
       "    .dataframe tbody tr th {\n",
       "        vertical-align: top;\n",
       "    }\n",
       "\n",
       "    .dataframe thead th {\n",
       "        text-align: right;\n",
       "    }\n",
       "</style>\n",
       "<table border=\"1\" class=\"dataframe\">\n",
       "  <thead>\n",
       "    <tr style=\"text-align: right;\">\n",
       "      <th></th>\n",
       "      <th>cvd_4types</th>\n",
       "      <th>age_s1</th>\n",
       "      <th>race</th>\n",
       "      <th>educat</th>\n",
       "      <th>mstat</th>\n",
       "      <th>hip</th>\n",
       "      <th>neck20</th>\n",
       "      <th>waist</th>\n",
       "      <th>av_weight_kg</th>\n",
       "      <th>cgpkyr</th>\n",
       "      <th>tea15</th>\n",
       "      <th>srhype</th>\n",
       "      <th>parrptdiab</th>\n",
       "      <th>bend25</th>\n",
       "      <th>happy25</th>\n",
       "      <th>tired25</th>\n",
       "      <th>hlthlm25</th>\n",
       "    </tr>\n",
       "  </thead>\n",
       "  <tbody>\n",
       "    <tr>\n",
       "      <th>count</th>\n",
       "      <td>3242.000000</td>\n",
       "      <td>3242.000000</td>\n",
       "      <td>3242.000000</td>\n",
       "      <td>3242.000000</td>\n",
       "      <td>3242.000000</td>\n",
       "      <td>3242.000000</td>\n",
       "      <td>3242.000000</td>\n",
       "      <td>3242.000000</td>\n",
       "      <td>3242.000000</td>\n",
       "      <td>3242.000000</td>\n",
       "      <td>3242.000000</td>\n",
       "      <td>3242.000000</td>\n",
       "      <td>3242.000000</td>\n",
       "      <td>3242.000000</td>\n",
       "      <td>3242.000000</td>\n",
       "      <td>3242.000000</td>\n",
       "      <td>3242.000000</td>\n",
       "    </tr>\n",
       "    <tr>\n",
       "      <th>mean</th>\n",
       "      <td>0.590068</td>\n",
       "      <td>64.828809</td>\n",
       "      <td>1.094695</td>\n",
       "      <td>2.326342</td>\n",
       "      <td>1.368600</td>\n",
       "      <td>105.404832</td>\n",
       "      <td>37.550719</td>\n",
       "      <td>97.209904</td>\n",
       "      <td>82.945928</td>\n",
       "      <td>12.904010</td>\n",
       "      <td>0.430907</td>\n",
       "      <td>0.327884</td>\n",
       "      <td>0.067551</td>\n",
       "      <td>2.473782</td>\n",
       "      <td>2.281308</td>\n",
       "      <td>4.292721</td>\n",
       "      <td>3.864898</td>\n",
       "    </tr>\n",
       "    <tr>\n",
       "      <th>std</th>\n",
       "      <td>0.491897</td>\n",
       "      <td>10.400496</td>\n",
       "      <td>0.358237</td>\n",
       "      <td>0.697934</td>\n",
       "      <td>0.933871</td>\n",
       "      <td>10.280402</td>\n",
       "      <td>4.101003</td>\n",
       "      <td>13.598060</td>\n",
       "      <td>7.849650</td>\n",
       "      <td>20.156736</td>\n",
       "      <td>1.242444</td>\n",
       "      <td>0.469515</td>\n",
       "      <td>0.251012</td>\n",
       "      <td>0.672158</td>\n",
       "      <td>0.951695</td>\n",
       "      <td>1.021099</td>\n",
       "      <td>0.614247</td>\n",
       "    </tr>\n",
       "    <tr>\n",
       "      <th>min</th>\n",
       "      <td>0.000000</td>\n",
       "      <td>39.000000</td>\n",
       "      <td>1.000000</td>\n",
       "      <td>1.000000</td>\n",
       "      <td>1.000000</td>\n",
       "      <td>44.000000</td>\n",
       "      <td>25.000000</td>\n",
       "      <td>67.000000</td>\n",
       "      <td>57.400000</td>\n",
       "      <td>0.000000</td>\n",
       "      <td>0.000000</td>\n",
       "      <td>0.000000</td>\n",
       "      <td>0.000000</td>\n",
       "      <td>1.000000</td>\n",
       "      <td>1.000000</td>\n",
       "      <td>1.000000</td>\n",
       "      <td>1.000000</td>\n",
       "    </tr>\n",
       "    <tr>\n",
       "      <th>25%</th>\n",
       "      <td>0.000000</td>\n",
       "      <td>57.000000</td>\n",
       "      <td>1.000000</td>\n",
       "      <td>2.000000</td>\n",
       "      <td>1.000000</td>\n",
       "      <td>99.000000</td>\n",
       "      <td>34.425000</td>\n",
       "      <td>88.000000</td>\n",
       "      <td>78.200000</td>\n",
       "      <td>0.000000</td>\n",
       "      <td>0.000000</td>\n",
       "      <td>0.000000</td>\n",
       "      <td>0.000000</td>\n",
       "      <td>2.000000</td>\n",
       "      <td>2.000000</td>\n",
       "      <td>4.000000</td>\n",
       "      <td>4.000000</td>\n",
       "    </tr>\n",
       "    <tr>\n",
       "      <th>50%</th>\n",
       "      <td>1.000000</td>\n",
       "      <td>65.000000</td>\n",
       "      <td>1.000000</td>\n",
       "      <td>2.000000</td>\n",
       "      <td>1.000000</td>\n",
       "      <td>104.000000</td>\n",
       "      <td>37.150000</td>\n",
       "      <td>97.000000</td>\n",
       "      <td>82.550000</td>\n",
       "      <td>0.300000</td>\n",
       "      <td>0.000000</td>\n",
       "      <td>0.000000</td>\n",
       "      <td>0.000000</td>\n",
       "      <td>3.000000</td>\n",
       "      <td>2.000000</td>\n",
       "      <td>4.000000</td>\n",
       "      <td>4.000000</td>\n",
       "    </tr>\n",
       "    <tr>\n",
       "      <th>75%</th>\n",
       "      <td>1.000000</td>\n",
       "      <td>73.000000</td>\n",
       "      <td>1.000000</td>\n",
       "      <td>3.000000</td>\n",
       "      <td>1.000000</td>\n",
       "      <td>110.000000</td>\n",
       "      <td>40.500000</td>\n",
       "      <td>106.000000</td>\n",
       "      <td>86.575000</td>\n",
       "      <td>20.475000</td>\n",
       "      <td>0.000000</td>\n",
       "      <td>1.000000</td>\n",
       "      <td>0.000000</td>\n",
       "      <td>3.000000</td>\n",
       "      <td>3.000000</td>\n",
       "      <td>5.000000</td>\n",
       "      <td>4.000000</td>\n",
       "    </tr>\n",
       "    <tr>\n",
       "      <th>max</th>\n",
       "      <td>1.000000</td>\n",
       "      <td>90.000000</td>\n",
       "      <td>3.000000</td>\n",
       "      <td>4.000000</td>\n",
       "      <td>8.000000</td>\n",
       "      <td>168.000000</td>\n",
       "      <td>53.000000</td>\n",
       "      <td>135.000000</td>\n",
       "      <td>136.700000</td>\n",
       "      <td>170.500000</td>\n",
       "      <td>30.000000</td>\n",
       "      <td>1.000000</td>\n",
       "      <td>1.000000</td>\n",
       "      <td>3.000000</td>\n",
       "      <td>6.000000</td>\n",
       "      <td>6.000000</td>\n",
       "      <td>5.000000</td>\n",
       "    </tr>\n",
       "  </tbody>\n",
       "</table>\n",
       "</div>"
      ],
      "text/plain": [
       "        cvd_4types       age_s1         race       educat        mstat  \\\n",
       "count  3242.000000  3242.000000  3242.000000  3242.000000  3242.000000   \n",
       "mean      0.590068    64.828809     1.094695     2.326342     1.368600   \n",
       "std       0.491897    10.400496     0.358237     0.697934     0.933871   \n",
       "min       0.000000    39.000000     1.000000     1.000000     1.000000   \n",
       "25%       0.000000    57.000000     1.000000     2.000000     1.000000   \n",
       "50%       1.000000    65.000000     1.000000     2.000000     1.000000   \n",
       "75%       1.000000    73.000000     1.000000     3.000000     1.000000   \n",
       "max       1.000000    90.000000     3.000000     4.000000     8.000000   \n",
       "\n",
       "               hip       neck20        waist  av_weight_kg       cgpkyr  \\\n",
       "count  3242.000000  3242.000000  3242.000000   3242.000000  3242.000000   \n",
       "mean    105.404832    37.550719    97.209904     82.945928    12.904010   \n",
       "std      10.280402     4.101003    13.598060      7.849650    20.156736   \n",
       "min      44.000000    25.000000    67.000000     57.400000     0.000000   \n",
       "25%      99.000000    34.425000    88.000000     78.200000     0.000000   \n",
       "50%     104.000000    37.150000    97.000000     82.550000     0.300000   \n",
       "75%     110.000000    40.500000   106.000000     86.575000    20.475000   \n",
       "max     168.000000    53.000000   135.000000    136.700000   170.500000   \n",
       "\n",
       "             tea15       srhype   parrptdiab       bend25      happy25  \\\n",
       "count  3242.000000  3242.000000  3242.000000  3242.000000  3242.000000   \n",
       "mean      0.430907     0.327884     0.067551     2.473782     2.281308   \n",
       "std       1.242444     0.469515     0.251012     0.672158     0.951695   \n",
       "min       0.000000     0.000000     0.000000     1.000000     1.000000   \n",
       "25%       0.000000     0.000000     0.000000     2.000000     2.000000   \n",
       "50%       0.000000     0.000000     0.000000     3.000000     2.000000   \n",
       "75%       0.000000     1.000000     0.000000     3.000000     3.000000   \n",
       "max      30.000000     1.000000     1.000000     3.000000     6.000000   \n",
       "\n",
       "           tired25     hlthlm25  \n",
       "count  3242.000000  3242.000000  \n",
       "mean      4.292721     3.864898  \n",
       "std       1.021099     0.614247  \n",
       "min       1.000000     1.000000  \n",
       "25%       4.000000     4.000000  \n",
       "50%       4.000000     4.000000  \n",
       "75%       5.000000     4.000000  \n",
       "max       6.000000     5.000000  "
      ]
     },
     "execution_count": 5,
     "metadata": {},
     "output_type": "execute_result"
    }
   ],
   "source": [
    "df.describe()"
   ]
  },
  {
   "cell_type": "code",
   "execution_count": 9,
   "metadata": {},
   "outputs": [
    {
     "data": {
      "text/plain": [
       "<matplotlib.axes._subplots.AxesSubplot at 0x1dbfafd3860>"
      ]
     },
     "execution_count": 9,
     "metadata": {},
     "output_type": "execute_result"
    },
    {
     "data": {
      "image/png": "[encoded data removed]",
      "text/plain": [
       "<Figure size 432x288 with 1 Axes>"
      ]
     },
     "metadata": {
      "needs_background": "light"
     },
     "output_type": "display_data"
    }
   ],
   "source": [
    "# See if we got an imbalanced data\n",
    "sns.countplot(df['cvd_4types'])"
   ]
  },
  {
   "cell_type": "markdown",
   "metadata": {},
   "source": [
    "### Feature Engineering"
   ]
  },
  {
   "cell_type": "code",
   "execution_count": 22,
   "metadata": {},
   "outputs": [],
   "source": [
    "# specify the categorical columns\n",
    "cat_features = ['race', 'educat','mstat','tea15', 'srhype', 'parrptdiab','bend25', 'happy25', 'tired25', 'hlthlm25']"
   ]
  },
  {
   "cell_type": "code",
   "execution_count": 100,
   "metadata": {},
   "outputs": [],
   "source": [
    "df_dum = pd.get_dummies(data=df, columns=cat_features, drop_first=True)"
   ]
  },
  {
   "cell_type": "code",
   "execution_count": 101,
   "metadata": {},
   "outputs": [],
   "source": [
    "# This function could normalize the numerical data\n",
    "def normalize(value):\n",
    "    norm = (value - value.mean()) / (value.max() - value.min())\n",
    "    return norm"
   ]
  },
  {
   "cell_type": "code",
   "execution_count": 102,
   "metadata": {},
   "outputs": [],
   "source": [
    "# Normalize the numerical variable to make their scales the same\n",
    "norm_columns = ['age_s1','hip', 'neck20','waist', 'av_weight_kg', 'cgpkyr']\n",
    "df_dum[norm_columns]=df_dum[norm_columns].apply(normalize)"
   ]
  },
  {
   "cell_type": "code",
   "execution_count": 103,
   "metadata": {},
   "outputs": [
    {
     "data": {
      "text/html": [
       "<div>\n",
       "<style scoped>\n",
       "    .dataframe tbody tr th:only-of-type {\n",
       "        vertical-align: middle;\n",
       "    }\n",
       "\n",
       "    .dataframe tbody tr th {\n",
       "        vertical-align: top;\n",
       "    }\n",
       "\n",
       "    .dataframe thead th {\n",
       "        text-align: right;\n",
       "    }\n",
       "</style>\n",
       "<table border=\"1\" class=\"dataframe\">\n",
       "  <thead>\n",
       "    <tr style=\"text-align: right;\">\n",
       "      <th></th>\n",
       "      <th>cvd_4types</th>\n",
       "      <th>age_s1</th>\n",
       "      <th>hip</th>\n",
       "      <th>neck20</th>\n",
       "      <th>waist</th>\n",
       "      <th>av_weight_kg</th>\n",
       "      <th>cgpkyr</th>\n",
       "      <th>race_2</th>\n",
       "      <th>race_3</th>\n",
       "      <th>educat_2</th>\n",
       "      <th>...</th>\n",
       "      <th>happy25_6</th>\n",
       "      <th>tired25_2</th>\n",
       "      <th>tired25_3</th>\n",
       "      <th>tired25_4</th>\n",
       "      <th>tired25_5</th>\n",
       "      <th>tired25_6</th>\n",
       "      <th>hlthlm25_2</th>\n",
       "      <th>hlthlm25_3</th>\n",
       "      <th>hlthlm25_4</th>\n",
       "      <th>hlthlm25_5</th>\n",
       "    </tr>\n",
       "  </thead>\n",
       "  <tbody>\n",
       "    <tr>\n",
       "      <th>0</th>\n",
       "      <td>0</td>\n",
       "      <td>-0.212330</td>\n",
       "      <td>0.037058</td>\n",
       "      <td>0.087474</td>\n",
       "      <td>0.158678</td>\n",
       "      <td>0.057428</td>\n",
       "      <td>0.123730</td>\n",
       "      <td>0</td>\n",
       "      <td>0</td>\n",
       "      <td>1</td>\n",
       "      <td>...</td>\n",
       "      <td>0</td>\n",
       "      <td>0</td>\n",
       "      <td>1</td>\n",
       "      <td>0</td>\n",
       "      <td>0</td>\n",
       "      <td>0</td>\n",
       "      <td>0</td>\n",
       "      <td>0</td>\n",
       "      <td>1</td>\n",
       "      <td>0</td>\n",
       "    </tr>\n",
       "    <tr>\n",
       "      <th>1</th>\n",
       "      <td>0</td>\n",
       "      <td>-0.173114</td>\n",
       "      <td>0.061251</td>\n",
       "      <td>-0.126811</td>\n",
       "      <td>0.143972</td>\n",
       "      <td>0.006987</td>\n",
       "      <td>-0.075683</td>\n",
       "      <td>0</td>\n",
       "      <td>1</td>\n",
       "      <td>1</td>\n",
       "      <td>...</td>\n",
       "      <td>0</td>\n",
       "      <td>0</td>\n",
       "      <td>0</td>\n",
       "      <td>0</td>\n",
       "      <td>0</td>\n",
       "      <td>0</td>\n",
       "      <td>0</td>\n",
       "      <td>1</td>\n",
       "      <td>0</td>\n",
       "      <td>0</td>\n",
       "    </tr>\n",
       "    <tr>\n",
       "      <th>2</th>\n",
       "      <td>0</td>\n",
       "      <td>-0.212330</td>\n",
       "      <td>0.037058</td>\n",
       "      <td>0.248189</td>\n",
       "      <td>0.114560</td>\n",
       "      <td>0.041035</td>\n",
       "      <td>0.214639</td>\n",
       "      <td>0</td>\n",
       "      <td>0</td>\n",
       "      <td>0</td>\n",
       "      <td>...</td>\n",
       "      <td>0</td>\n",
       "      <td>0</td>\n",
       "      <td>0</td>\n",
       "      <td>0</td>\n",
       "      <td>0</td>\n",
       "      <td>1</td>\n",
       "      <td>0</td>\n",
       "      <td>0</td>\n",
       "      <td>1</td>\n",
       "      <td>0</td>\n",
       "    </tr>\n",
       "    <tr>\n",
       "      <th>3</th>\n",
       "      <td>0</td>\n",
       "      <td>-0.212330</td>\n",
       "      <td>0.190284</td>\n",
       "      <td>0.176760</td>\n",
       "      <td>0.188090</td>\n",
       "      <td>0.077605</td>\n",
       "      <td>-0.075683</td>\n",
       "      <td>0</td>\n",
       "      <td>0</td>\n",
       "      <td>0</td>\n",
       "      <td>...</td>\n",
       "      <td>0</td>\n",
       "      <td>0</td>\n",
       "      <td>0</td>\n",
       "      <td>0</td>\n",
       "      <td>0</td>\n",
       "      <td>0</td>\n",
       "      <td>0</td>\n",
       "      <td>1</td>\n",
       "      <td>0</td>\n",
       "      <td>0</td>\n",
       "    </tr>\n",
       "    <tr>\n",
       "      <th>4</th>\n",
       "      <td>0</td>\n",
       "      <td>-0.271153</td>\n",
       "      <td>0.133832</td>\n",
       "      <td>-0.019669</td>\n",
       "      <td>0.232207</td>\n",
       "      <td>-0.020756</td>\n",
       "      <td>-0.075683</td>\n",
       "      <td>0</td>\n",
       "      <td>1</td>\n",
       "      <td>1</td>\n",
       "      <td>...</td>\n",
       "      <td>0</td>\n",
       "      <td>0</td>\n",
       "      <td>0</td>\n",
       "      <td>0</td>\n",
       "      <td>0</td>\n",
       "      <td>0</td>\n",
       "      <td>1</td>\n",
       "      <td>0</td>\n",
       "      <td>0</td>\n",
       "      <td>0</td>\n",
       "    </tr>\n",
       "  </tbody>\n",
       "</table>\n",
       "<p>5 rows × 48 columns</p>\n",
       "</div>"
      ],
      "text/plain": [
       "   cvd_4types    age_s1       hip    neck20     waist  av_weight_kg    cgpkyr  \\\n",
       "0           0 -0.212330  0.037058  0.087474  0.158678      0.057428  0.123730   \n",
       "1           0 -0.173114  0.061251 -0.126811  0.143972      0.006987 -0.075683   \n",
       "2           0 -0.212330  0.037058  0.248189  0.114560      0.041035  0.214639   \n",
       "3           0 -0.212330  0.190284  0.176760  0.188090      0.077605 -0.075683   \n",
       "4           0 -0.271153  0.133832 -0.019669  0.232207     -0.020756 -0.075683   \n",
       "\n",
       "   race_2  race_3  educat_2  ...  happy25_6  tired25_2  tired25_3  tired25_4  \\\n",
       "0       0       0         1  ...          0          0          1          0   \n",
       "1       0       1         1  ...          0          0          0          0   \n",
       "2       0       0         0  ...          0          0          0          0   \n",
       "3       0       0         0  ...          0          0          0          0   \n",
       "4       0       1         1  ...          0          0          0          0   \n",
       "\n",
       "   tired25_5  tired25_6  hlthlm25_2  hlthlm25_3  hlthlm25_4  hlthlm25_5  \n",
       "0          0          0           0           0           1           0  \n",
       "1          0          0           0           1           0           0  \n",
       "2          0          1           0           0           1           0  \n",
       "3          0          0           0           1           0           0  \n",
       "4          0          0           1           0           0           0  \n",
       "\n",
       "[5 rows x 48 columns]"
      ]
     },
     "execution_count": 103,
     "metadata": {},
     "output_type": "execute_result"
    }
   ],
   "source": [
    "df_dum.head()"
   ]
  },
  {
   "cell_type": "code",
   "execution_count": 104,
   "metadata": {},
   "outputs": [],
   "source": [
    "# Split the data set by specify the size as 0.3\n",
    "X_train, X_test, y_train, y_test = train_test_split(df_dum.drop('cvd_4types',axis=1)\n",
    "                                                    , df_dum['cvd_4types'], test_size=0.3, random_state=42)"
   ]
  },
  {
   "cell_type": "markdown",
   "metadata": {},
   "source": [
    "### Train the model without specify the hyperparameters"
   ]
  },
  {
   "cell_type": "code",
   "execution_count": 105,
   "metadata": {},
   "outputs": [
    {
     "name": "stderr",
     "output_type": "stream",
     "text": [
      "C:\\Users\\wuuj0\\Anaconda3\\lib\\site-packages\\sklearn\\linear_model\\logistic.py:432: FutureWarning: Default solver will be changed to 'lbfgs' in 0.22. Specify a solver to silence this warning.\n",
      "  FutureWarning)\n"
     ]
    },
    {
     "data": {
      "text/plain": [
       "0.6875642343268242"
      ]
     },
     "execution_count": 105,
     "metadata": {},
     "output_type": "execute_result"
    }
   ],
   "source": [
    "lr = LogisticRegression()\n",
    "lr.fit(X_train,y_train)\n",
    "y_pred = lr.predict(X_test)\n",
    "acc = accuracy_score(y_test, y_pred)\n",
    "acc"
   ]
  },
  {
   "cell_type": "markdown",
   "metadata": {},
   "source": [
    "### Use GridSearch to find the best hyperparameter"
   ]
  },
  {
   "cell_type": "code",
   "execution_count": 106,
   "metadata": {},
   "outputs": [],
   "source": [
    "# Create regularization hyperparameter space\n",
    "C = np.logspace(0, 4, 10)\n",
    "\n",
    "# Create penalty and solver space\n",
    "solver = ['sag','lbfgs','newton-cg']\n",
    "\n",
    "# Create hyperparameter options\n",
    "random_state = [42]\n",
    "hyperparameters = dict(C=C, solver=solver, random_state=random_state)"
   ]
  },
  {
   "cell_type": "code",
   "execution_count": 107,
   "metadata": {},
   "outputs": [],
   "source": [
    "from sklearn.model_selection import GridSearchCV\n",
    "clf = GridSearchCV(lr, hyperparameters, cv=5)"
   ]
  },
  {
   "cell_type": "code",
   "execution_count": 108,
   "metadata": {
    "collapsed": true
   },
   "outputs": [
    {
     "name": "stderr",
     "output_type": "stream",
     "text": [
      "C:\\Users\\wuuj0\\Anaconda3\\lib\\site-packages\\sklearn\\linear_model\\logistic.py:947: ConvergenceWarning: lbfgs failed to converge. Increase the number of iterations.\n",
      "  \"of iterations.\", ConvergenceWarning)\n",
      "C:\\Users\\wuuj0\\Anaconda3\\lib\\site-packages\\sklearn\\linear_model\\logistic.py:947: ConvergenceWarning: lbfgs failed to converge. Increase the number of iterations.\n",
      "  \"of iterations.\", ConvergenceWarning)\n",
      "C:\\Users\\wuuj0\\Anaconda3\\lib\\site-packages\\sklearn\\linear_model\\logistic.py:947: ConvergenceWarning: lbfgs failed to converge. Increase the number of iterations.\n",
      "  \"of iterations.\", ConvergenceWarning)\n",
      "C:\\Users\\wuuj0\\Anaconda3\\lib\\site-packages\\sklearn\\linear_model\\logistic.py:947: ConvergenceWarning: lbfgs failed to converge. Increase the number of iterations.\n",
      "  \"of iterations.\", ConvergenceWarning)\n",
      "C:\\Users\\wuuj0\\Anaconda3\\lib\\site-packages\\sklearn\\linear_model\\logistic.py:947: ConvergenceWarning: lbfgs failed to converge. Increase the number of iterations.\n",
      "  \"of iterations.\", ConvergenceWarning)\n",
      "C:\\Users\\wuuj0\\Anaconda3\\lib\\site-packages\\sklearn\\linear_model\\sag.py:337: ConvergenceWarning: The max_iter was reached which means the coef_ did not converge\n",
      "  \"the coef_ did not converge\", ConvergenceWarning)\n",
      "C:\\Users\\wuuj0\\Anaconda3\\lib\\site-packages\\sklearn\\linear_model\\sag.py:337: ConvergenceWarning: The max_iter was reached which means the coef_ did not converge\n",
      "  \"the coef_ did not converge\", ConvergenceWarning)\n",
      "C:\\Users\\wuuj0\\Anaconda3\\lib\\site-packages\\sklearn\\linear_model\\sag.py:337: ConvergenceWarning: The max_iter was reached which means the coef_ did not converge\n",
      "  \"the coef_ did not converge\", ConvergenceWarning)\n",
      "C:\\Users\\wuuj0\\Anaconda3\\lib\\site-packages\\sklearn\\linear_model\\sag.py:337: ConvergenceWarning: The max_iter was reached which means the coef_ did not converge\n",
      "  \"the coef_ did not converge\", ConvergenceWarning)\n",
      "C:\\Users\\wuuj0\\Anaconda3\\lib\\site-packages\\sklearn\\linear_model\\logistic.py:947: ConvergenceWarning: lbfgs failed to converge. Increase the number of iterations.\n",
      "  \"of iterations.\", ConvergenceWarning)\n",
      "C:\\Users\\wuuj0\\Anaconda3\\lib\\site-packages\\sklearn\\linear_model\\logistic.py:947: ConvergenceWarning: lbfgs failed to converge. Increase the number of iterations.\n",
      "  \"of iterations.\", ConvergenceWarning)\n",
      "C:\\Users\\wuuj0\\Anaconda3\\lib\\site-packages\\sklearn\\linear_model\\logistic.py:947: ConvergenceWarning: lbfgs failed to converge. Increase the number of iterations.\n",
      "  \"of iterations.\", ConvergenceWarning)\n",
      "C:\\Users\\wuuj0\\Anaconda3\\lib\\site-packages\\sklearn\\linear_model\\logistic.py:947: ConvergenceWarning: lbfgs failed to converge. Increase the number of iterations.\n",
      "  \"of iterations.\", ConvergenceWarning)\n",
      "C:\\Users\\wuuj0\\Anaconda3\\lib\\site-packages\\sklearn\\linear_model\\logistic.py:947: ConvergenceWarning: lbfgs failed to converge. Increase the number of iterations.\n",
      "  \"of iterations.\", ConvergenceWarning)\n",
      "C:\\Users\\wuuj0\\Anaconda3\\lib\\site-packages\\sklearn\\linear_model\\sag.py:337: ConvergenceWarning: The max_iter was reached which means the coef_ did not converge\n",
      "  \"the coef_ did not converge\", ConvergenceWarning)\n",
      "C:\\Users\\wuuj0\\Anaconda3\\lib\\site-packages\\sklearn\\linear_model\\sag.py:337: ConvergenceWarning: The max_iter was reached which means the coef_ did not converge\n",
      "  \"the coef_ did not converge\", ConvergenceWarning)\n",
      "C:\\Users\\wuuj0\\Anaconda3\\lib\\site-packages\\sklearn\\linear_model\\sag.py:337: ConvergenceWarning: The max_iter was reached which means the coef_ did not converge\n",
      "  \"the coef_ did not converge\", ConvergenceWarning)\n",
      "C:\\Users\\wuuj0\\Anaconda3\\lib\\site-packages\\sklearn\\linear_model\\sag.py:337: ConvergenceWarning: The max_iter was reached which means the coef_ did not converge\n",
      "  \"the coef_ did not converge\", ConvergenceWarning)\n",
      "C:\\Users\\wuuj0\\Anaconda3\\lib\\site-packages\\sklearn\\linear_model\\sag.py:337: ConvergenceWarning: The max_iter was reached which means the coef_ did not converge\n",
      "  \"the coef_ did not converge\", ConvergenceWarning)\n",
      "C:\\Users\\wuuj0\\Anaconda3\\lib\\site-packages\\sklearn\\linear_model\\logistic.py:947: ConvergenceWarning: lbfgs failed to converge. Increase the number of iterations.\n",
      "  \"of iterations.\", ConvergenceWarning)\n",
      "C:\\Users\\wuuj0\\Anaconda3\\lib\\site-packages\\sklearn\\linear_model\\logistic.py:947: ConvergenceWarning: lbfgs failed to converge. Increase the number of iterations.\n",
      "  \"of iterations.\", ConvergenceWarning)\n",
      "C:\\Users\\wuuj0\\Anaconda3\\lib\\site-packages\\sklearn\\linear_model\\logistic.py:947: ConvergenceWarning: lbfgs failed to converge. Increase the number of iterations.\n",
      "  \"of iterations.\", ConvergenceWarning)\n",
      "C:\\Users\\wuuj0\\Anaconda3\\lib\\site-packages\\sklearn\\linear_model\\logistic.py:947: ConvergenceWarning: lbfgs failed to converge. Increase the number of iterations.\n",
      "  \"of iterations.\", ConvergenceWarning)\n",
      "C:\\Users\\wuuj0\\Anaconda3\\lib\\site-packages\\sklearn\\linear_model\\logistic.py:947: ConvergenceWarning: lbfgs failed to converge. Increase the number of iterations.\n",
      "  \"of iterations.\", ConvergenceWarning)\n",
      "C:\\Users\\wuuj0\\Anaconda3\\lib\\site-packages\\sklearn\\linear_model\\sag.py:337: ConvergenceWarning: The max_iter was reached which means the coef_ did not converge\n",
      "  \"the coef_ did not converge\", ConvergenceWarning)\n",
      "C:\\Users\\wuuj0\\Anaconda3\\lib\\site-packages\\sklearn\\linear_model\\sag.py:337: ConvergenceWarning: The max_iter was reached which means the coef_ did not converge\n",
      "  \"the coef_ did not converge\", ConvergenceWarning)\n",
      "C:\\Users\\wuuj0\\Anaconda3\\lib\\site-packages\\sklearn\\linear_model\\sag.py:337: ConvergenceWarning: The max_iter was reached which means the coef_ did not converge\n",
      "  \"the coef_ did not converge\", ConvergenceWarning)\n",
      "C:\\Users\\wuuj0\\Anaconda3\\lib\\site-packages\\sklearn\\linear_model\\sag.py:337: ConvergenceWarning: The max_iter was reached which means the coef_ did not converge\n",
      "  \"the coef_ did not converge\", ConvergenceWarning)\n",
      "C:\\Users\\wuuj0\\Anaconda3\\lib\\site-packages\\sklearn\\linear_model\\sag.py:337: ConvergenceWarning: The max_iter was reached which means the coef_ did not converge\n",
      "  \"the coef_ did not converge\", ConvergenceWarning)\n",
      "C:\\Users\\wuuj0\\Anaconda3\\lib\\site-packages\\sklearn\\linear_model\\logistic.py:947: ConvergenceWarning: lbfgs failed to converge. Increase the number of iterations.\n",
      "  \"of iterations.\", ConvergenceWarning)\n",
      "C:\\Users\\wuuj0\\Anaconda3\\lib\\site-packages\\sklearn\\linear_model\\logistic.py:947: ConvergenceWarning: lbfgs failed to converge. Increase the number of iterations.\n",
      "  \"of iterations.\", ConvergenceWarning)\n",
      "C:\\Users\\wuuj0\\Anaconda3\\lib\\site-packages\\sklearn\\linear_model\\logistic.py:947: ConvergenceWarning: lbfgs failed to converge. Increase the number of iterations.\n",
      "  \"of iterations.\", ConvergenceWarning)\n",
      "C:\\Users\\wuuj0\\Anaconda3\\lib\\site-packages\\sklearn\\linear_model\\logistic.py:947: ConvergenceWarning: lbfgs failed to converge. Increase the number of iterations.\n",
      "  \"of iterations.\", ConvergenceWarning)\n",
      "C:\\Users\\wuuj0\\Anaconda3\\lib\\site-packages\\sklearn\\linear_model\\logistic.py:947: ConvergenceWarning: lbfgs failed to converge. Increase the number of iterations.\n",
      "  \"of iterations.\", ConvergenceWarning)\n",
      "C:\\Users\\wuuj0\\Anaconda3\\lib\\site-packages\\sklearn\\linear_model\\sag.py:337: ConvergenceWarning: The max_iter was reached which means the coef_ did not converge\n",
      "  \"the coef_ did not converge\", ConvergenceWarning)\n",
      "C:\\Users\\wuuj0\\Anaconda3\\lib\\site-packages\\sklearn\\linear_model\\sag.py:337: ConvergenceWarning: The max_iter was reached which means the coef_ did not converge\n",
      "  \"the coef_ did not converge\", ConvergenceWarning)\n",
      "C:\\Users\\wuuj0\\Anaconda3\\lib\\site-packages\\sklearn\\linear_model\\sag.py:337: ConvergenceWarning: The max_iter was reached which means the coef_ did not converge\n",
      "  \"the coef_ did not converge\", ConvergenceWarning)\n",
      "C:\\Users\\wuuj0\\Anaconda3\\lib\\site-packages\\sklearn\\linear_model\\sag.py:337: ConvergenceWarning: The max_iter was reached which means the coef_ did not converge\n",
      "  \"the coef_ did not converge\", ConvergenceWarning)\n",
      "C:\\Users\\wuuj0\\Anaconda3\\lib\\site-packages\\sklearn\\linear_model\\sag.py:337: ConvergenceWarning: The max_iter was reached which means the coef_ did not converge\n",
      "  \"the coef_ did not converge\", ConvergenceWarning)\n",
      "C:\\Users\\wuuj0\\Anaconda3\\lib\\site-packages\\sklearn\\linear_model\\logistic.py:947: ConvergenceWarning: lbfgs failed to converge. Increase the number of iterations.\n",
      "  \"of iterations.\", ConvergenceWarning)\n",
      "C:\\Users\\wuuj0\\Anaconda3\\lib\\site-packages\\sklearn\\linear_model\\logistic.py:947: ConvergenceWarning: lbfgs failed to converge. Increase the number of iterations.\n",
      "  \"of iterations.\", ConvergenceWarning)\n",
      "C:\\Users\\wuuj0\\Anaconda3\\lib\\site-packages\\sklearn\\linear_model\\logistic.py:947: ConvergenceWarning: lbfgs failed to converge. Increase the number of iterations.\n",
      "  \"of iterations.\", ConvergenceWarning)\n",
      "C:\\Users\\wuuj0\\Anaconda3\\lib\\site-packages\\sklearn\\linear_model\\logistic.py:947: ConvergenceWarning: lbfgs failed to converge. Increase the number of iterations.\n",
      "  \"of iterations.\", ConvergenceWarning)\n"
     ]
    },
    {
     "name": "stderr",
     "output_type": "stream",
     "text": [
      "C:\\Users\\wuuj0\\Anaconda3\\lib\\site-packages\\sklearn\\linear_model\\logistic.py:947: ConvergenceWarning: lbfgs failed to converge. Increase the number of iterations.\n",
      "  \"of iterations.\", ConvergenceWarning)\n",
      "C:\\Users\\wuuj0\\Anaconda3\\lib\\site-packages\\sklearn\\linear_model\\sag.py:337: ConvergenceWarning: The max_iter was reached which means the coef_ did not converge\n",
      "  \"the coef_ did not converge\", ConvergenceWarning)\n",
      "C:\\Users\\wuuj0\\Anaconda3\\lib\\site-packages\\sklearn\\linear_model\\sag.py:337: ConvergenceWarning: The max_iter was reached which means the coef_ did not converge\n",
      "  \"the coef_ did not converge\", ConvergenceWarning)\n",
      "C:\\Users\\wuuj0\\Anaconda3\\lib\\site-packages\\sklearn\\linear_model\\sag.py:337: ConvergenceWarning: The max_iter was reached which means the coef_ did not converge\n",
      "  \"the coef_ did not converge\", ConvergenceWarning)\n",
      "C:\\Users\\wuuj0\\Anaconda3\\lib\\site-packages\\sklearn\\linear_model\\sag.py:337: ConvergenceWarning: The max_iter was reached which means the coef_ did not converge\n",
      "  \"the coef_ did not converge\", ConvergenceWarning)\n",
      "C:\\Users\\wuuj0\\Anaconda3\\lib\\site-packages\\sklearn\\linear_model\\sag.py:337: ConvergenceWarning: The max_iter was reached which means the coef_ did not converge\n",
      "  \"the coef_ did not converge\", ConvergenceWarning)\n",
      "C:\\Users\\wuuj0\\Anaconda3\\lib\\site-packages\\sklearn\\linear_model\\logistic.py:947: ConvergenceWarning: lbfgs failed to converge. Increase the number of iterations.\n",
      "  \"of iterations.\", ConvergenceWarning)\n",
      "C:\\Users\\wuuj0\\Anaconda3\\lib\\site-packages\\sklearn\\linear_model\\logistic.py:947: ConvergenceWarning: lbfgs failed to converge. Increase the number of iterations.\n",
      "  \"of iterations.\", ConvergenceWarning)\n",
      "C:\\Users\\wuuj0\\Anaconda3\\lib\\site-packages\\sklearn\\linear_model\\logistic.py:947: ConvergenceWarning: lbfgs failed to converge. Increase the number of iterations.\n",
      "  \"of iterations.\", ConvergenceWarning)\n",
      "C:\\Users\\wuuj0\\Anaconda3\\lib\\site-packages\\sklearn\\linear_model\\logistic.py:947: ConvergenceWarning: lbfgs failed to converge. Increase the number of iterations.\n",
      "  \"of iterations.\", ConvergenceWarning)\n",
      "C:\\Users\\wuuj0\\Anaconda3\\lib\\site-packages\\sklearn\\linear_model\\logistic.py:947: ConvergenceWarning: lbfgs failed to converge. Increase the number of iterations.\n",
      "  \"of iterations.\", ConvergenceWarning)\n",
      "C:\\Users\\wuuj0\\Anaconda3\\lib\\site-packages\\sklearn\\linear_model\\sag.py:337: ConvergenceWarning: The max_iter was reached which means the coef_ did not converge\n",
      "  \"the coef_ did not converge\", ConvergenceWarning)\n",
      "C:\\Users\\wuuj0\\Anaconda3\\lib\\site-packages\\sklearn\\linear_model\\sag.py:337: ConvergenceWarning: The max_iter was reached which means the coef_ did not converge\n",
      "  \"the coef_ did not converge\", ConvergenceWarning)\n",
      "C:\\Users\\wuuj0\\Anaconda3\\lib\\site-packages\\sklearn\\linear_model\\sag.py:337: ConvergenceWarning: The max_iter was reached which means the coef_ did not converge\n",
      "  \"the coef_ did not converge\", ConvergenceWarning)\n",
      "C:\\Users\\wuuj0\\Anaconda3\\lib\\site-packages\\sklearn\\linear_model\\sag.py:337: ConvergenceWarning: The max_iter was reached which means the coef_ did not converge\n",
      "  \"the coef_ did not converge\", ConvergenceWarning)\n",
      "C:\\Users\\wuuj0\\Anaconda3\\lib\\site-packages\\sklearn\\linear_model\\sag.py:337: ConvergenceWarning: The max_iter was reached which means the coef_ did not converge\n",
      "  \"the coef_ did not converge\", ConvergenceWarning)\n",
      "C:\\Users\\wuuj0\\Anaconda3\\lib\\site-packages\\sklearn\\linear_model\\logistic.py:947: ConvergenceWarning: lbfgs failed to converge. Increase the number of iterations.\n",
      "  \"of iterations.\", ConvergenceWarning)\n",
      "C:\\Users\\wuuj0\\Anaconda3\\lib\\site-packages\\sklearn\\linear_model\\logistic.py:947: ConvergenceWarning: lbfgs failed to converge. Increase the number of iterations.\n",
      "  \"of iterations.\", ConvergenceWarning)\n",
      "C:\\Users\\wuuj0\\Anaconda3\\lib\\site-packages\\sklearn\\linear_model\\logistic.py:947: ConvergenceWarning: lbfgs failed to converge. Increase the number of iterations.\n",
      "  \"of iterations.\", ConvergenceWarning)\n",
      "C:\\Users\\wuuj0\\Anaconda3\\lib\\site-packages\\sklearn\\linear_model\\logistic.py:947: ConvergenceWarning: lbfgs failed to converge. Increase the number of iterations.\n",
      "  \"of iterations.\", ConvergenceWarning)\n",
      "C:\\Users\\wuuj0\\Anaconda3\\lib\\site-packages\\sklearn\\linear_model\\logistic.py:947: ConvergenceWarning: lbfgs failed to converge. Increase the number of iterations.\n",
      "  \"of iterations.\", ConvergenceWarning)\n",
      "C:\\Users\\wuuj0\\Anaconda3\\lib\\site-packages\\sklearn\\linear_model\\sag.py:337: ConvergenceWarning: The max_iter was reached which means the coef_ did not converge\n",
      "  \"the coef_ did not converge\", ConvergenceWarning)\n",
      "C:\\Users\\wuuj0\\Anaconda3\\lib\\site-packages\\sklearn\\linear_model\\sag.py:337: ConvergenceWarning: The max_iter was reached which means the coef_ did not converge\n",
      "  \"the coef_ did not converge\", ConvergenceWarning)\n",
      "C:\\Users\\wuuj0\\Anaconda3\\lib\\site-packages\\sklearn\\linear_model\\sag.py:337: ConvergenceWarning: The max_iter was reached which means the coef_ did not converge\n",
      "  \"the coef_ did not converge\", ConvergenceWarning)\n",
      "C:\\Users\\wuuj0\\Anaconda3\\lib\\site-packages\\sklearn\\linear_model\\sag.py:337: ConvergenceWarning: The max_iter was reached which means the coef_ did not converge\n",
      "  \"the coef_ did not converge\", ConvergenceWarning)\n",
      "C:\\Users\\wuuj0\\Anaconda3\\lib\\site-packages\\sklearn\\linear_model\\sag.py:337: ConvergenceWarning: The max_iter was reached which means the coef_ did not converge\n",
      "  \"the coef_ did not converge\", ConvergenceWarning)\n",
      "C:\\Users\\wuuj0\\Anaconda3\\lib\\site-packages\\sklearn\\linear_model\\logistic.py:947: ConvergenceWarning: lbfgs failed to converge. Increase the number of iterations.\n",
      "  \"of iterations.\", ConvergenceWarning)\n",
      "C:\\Users\\wuuj0\\Anaconda3\\lib\\site-packages\\sklearn\\linear_model\\logistic.py:947: ConvergenceWarning: lbfgs failed to converge. Increase the number of iterations.\n",
      "  \"of iterations.\", ConvergenceWarning)\n",
      "C:\\Users\\wuuj0\\Anaconda3\\lib\\site-packages\\sklearn\\linear_model\\logistic.py:947: ConvergenceWarning: lbfgs failed to converge. Increase the number of iterations.\n",
      "  \"of iterations.\", ConvergenceWarning)\n",
      "C:\\Users\\wuuj0\\Anaconda3\\lib\\site-packages\\sklearn\\linear_model\\logistic.py:947: ConvergenceWarning: lbfgs failed to converge. Increase the number of iterations.\n",
      "  \"of iterations.\", ConvergenceWarning)\n",
      "C:\\Users\\wuuj0\\Anaconda3\\lib\\site-packages\\sklearn\\linear_model\\logistic.py:947: ConvergenceWarning: lbfgs failed to converge. Increase the number of iterations.\n",
      "  \"of iterations.\", ConvergenceWarning)\n",
      "C:\\Users\\wuuj0\\Anaconda3\\lib\\site-packages\\sklearn\\linear_model\\logistic.py:947: ConvergenceWarning: lbfgs failed to converge. Increase the number of iterations.\n",
      "  \"of iterations.\", ConvergenceWarning)\n"
     ]
    }
   ],
   "source": [
    "best_model = clf.fit(X_train, y_train)"
   ]
  },
  {
   "cell_type": "code",
   "execution_count": 111,
   "metadata": {},
   "outputs": [
    {
     "name": "stdout",
     "output_type": "stream",
     "text": [
      "Best Solver: lbfgs\n",
      "Best C: 166.81005372000593\n"
     ]
    }
   ],
   "source": [
    "# View best hyperparameters\n",
    "print('Best Solver:', best_model.best_estimator_.get_params()['solver'])\n",
    "print('Best C:', best_model.best_estimator_.get_params()['C'])"
   ]
  },
  {
   "cell_type": "markdown",
   "metadata": {},
   "source": [
    "### Re-train the model"
   ]
  },
  {
   "cell_type": "code",
   "execution_count": 110,
   "metadata": {},
   "outputs": [
    {
     "name": "stderr",
     "output_type": "stream",
     "text": [
      "C:\\Users\\wuuj0\\Anaconda3\\lib\\site-packages\\sklearn\\linear_model\\logistic.py:947: ConvergenceWarning: lbfgs failed to converge. Increase the number of iterations.\n",
      "  \"of iterations.\", ConvergenceWarning)\n"
     ]
    },
    {
     "data": {
      "text/plain": [
       "0.6937307297019527"
      ]
     },
     "execution_count": 110,
     "metadata": {},
     "output_type": "execute_result"
    }
   ],
   "source": [
    "lr = LogisticRegression(C=166.8, solver='lbfgs', random_state=42)\n",
    "lr.fit(X_train,y_train)\n",
    "y_pred = lr.predict(X_test)\n",
    "acc = accuracy_score(y_test, y_pred)\n",
    "# The accuracy did increase, but it isn't significant\n",
    "acc"
   ]
  },
  {
   "cell_type": "markdown",
   "metadata": {},
   "source": [
    "### Feature Importance"
   ]
  },
  {
   "cell_type": "code",
   "execution_count": 112,
   "metadata": {},
   "outputs": [
    {
     "name": "stdout",
     "output_type": "stream",
     "text": [
      "age_s1         -0.065422\n",
      "hip            -0.598198\n",
      "neck20         -0.135253\n",
      "waist           1.016001\n",
      "av_weight_kg   -0.124964\n",
      "cgpkyr         -0.023852\n",
      "race_2         -0.242833\n",
      "race_3         -0.376767\n",
      "educat_2       -0.169214\n",
      "educat_3       -0.100757\n",
      "educat_4        0.213801\n",
      "mstat_2        -0.191451\n",
      "mstat_3        -0.082053\n",
      "mstat_4        -0.319605\n",
      "mstat_8         0.502494\n",
      "tea15_1        -0.084036\n",
      "tea15_2        -0.007762\n",
      "tea15_3         0.011272\n",
      "tea15_4        -0.018373\n",
      "tea15_5        -0.014563\n",
      "tea15_6         0.038702\n",
      "tea15_7         0.128735\n",
      "tea15_8        -0.009450\n",
      "tea15_9         0.037157\n",
      "tea15_10       -0.029193\n",
      "tea15_12       -0.091898\n",
      "tea15_16       -0.115123\n",
      "tea15_21       -0.090032\n",
      "tea15_30       -0.107617\n",
      "srhype_1        0.029772\n",
      "parrptdiab_1    0.183062\n",
      "bend25_2        0.121546\n",
      "bend25_3        0.028731\n",
      "happy25_2       0.110960\n",
      "happy25_3       0.051543\n",
      "happy25_4      -0.017102\n",
      "happy25_5       0.022052\n",
      "happy25_6       0.017099\n",
      "tired25_2      -0.091514\n",
      "tired25_3      -0.128974\n",
      "tired25_4      -0.053559\n",
      "tired25_5       0.019249\n",
      "tired25_6       0.017703\n",
      "hlthlm25_2      0.080337\n",
      "hlthlm25_3      0.084680\n",
      "hlthlm25_4      0.071413\n",
      "hlthlm25_5     -0.630884\n",
      "dtype: float64\n"
     ]
    }
   ],
   "source": [
    "stand_coef = np.std(X_train,0)*lr.coef_[0]\n",
    "print(stand_coef)"
   ]
  },
  {
   "cell_type": "code",
   "execution_count": 113,
   "metadata": {},
   "outputs": [
    {
     "data": {
      "image/png": "[encoded data removed]",
      "text/plain": [
       "<Figure size 720x720 with 1 Axes>"
      ]
     },
     "metadata": {
      "needs_background": "light"
     },
     "output_type": "display_data"
    }
   ],
   "source": [
    "plt.figure(figsize=(10,10))\n",
    "barlist = plt.barh(stand_coef.index,stand_coef,color='g')\n",
    "for i,coef in enumerate(lr.coef_[0]):\n",
    "    if coef<0:\n",
    "        barlist[i].set_color('r')\n",
    "    else: pass\n",
    "# The green factors would increase the probability of being 1 and vice versa"
   ]
  },
  {
   "cell_type": "markdown",
   "metadata": {},
   "source": [
    "### Model Evaluation"
   ]
  },
  {
   "cell_type": "code",
   "execution_count": 97,
   "metadata": {},
   "outputs": [],
   "source": [
    "y_score = lr.predict_proba(X_test)[:,1]"
   ]
  },
  {
   "cell_type": "code",
   "execution_count": 98,
   "metadata": {},
   "outputs": [
    {
     "data": {
      "text/plain": [
       "Text(0, 0.5, 'True Positive Rate')"
      ]
     },
     "execution_count": 98,
     "metadata": {},
     "output_type": "execute_result"
    },
    {
     "data": {
      "image/png": "[encoded data removed]",
      "text/plain": [
       "<Figure size 432x288 with 1 Axes>"
      ]
     },
     "metadata": {
      "needs_background": "light"
     },
     "output_type": "display_data"
    }
   ],
   "source": [
    "fp, tp, threshold = roc_curve(y_test, y_score)\n",
    "plt.plot(fp, tp,label = 'ROC_Curve')\n",
    "plt.plot([0,1],[0,1],'k-',label='random')\n",
    "plt.plot([0,0,1,1],[0,1,1,1],'g-',label='perfect')\n",
    "plt.legend()\n",
    "plt.xlabel('False Positive Rate')\n",
    "plt.ylabel('True Positive Rate')\n",
    "\n",
    "# The ROC curve is only a little bit better than the random line"
   ]
  },
  {
   "cell_type": "code",
   "execution_count": 99,
   "metadata": {},
   "outputs": [
    {
     "name": "stdout",
     "output_type": "stream",
     "text": [
      "The AUC for the Logistic Regression is 0.7461\n"
     ]
    }
   ],
   "source": [
    "auc_lr = roc_auc_score(y_test, y_score)\n",
    "print(\"The AUC for the Logistic Regression is {}\".format(round(auc_lr,4)))"
   ]
  },
  {
   "cell_type": "markdown",
   "metadata": {},
   "source": [
    "# CA05-B-KNN"
   ]
  },
  {
   "cell_type": "code",
   "execution_count": 19,
   "metadata": {},
   "outputs": [],
   "source": [
    "from sklearn.neighbors import NearestNeighbors"
   ]
  },
  {
   "cell_type": "code",
   "execution_count": 20,
   "metadata": {},
   "outputs": [
    {
     "data": {
      "text/html": [
       "<div>\n",
       "<style scoped>\n",
       "    .dataframe tbody tr th:only-of-type {\n",
       "        vertical-align: middle;\n",
       "    }\n",
       "\n",
       "    .dataframe tbody tr th {\n",
       "        vertical-align: top;\n",
       "    }\n",
       "\n",
       "    .dataframe thead th {\n",
       "        text-align: right;\n",
       "    }\n",
       "</style>\n",
       "<table border=\"1\" class=\"dataframe\">\n",
       "  <thead>\n",
       "    <tr style=\"text-align: right;\">\n",
       "      <th></th>\n",
       "      <th>Movie ID</th>\n",
       "      <th>Movie Name</th>\n",
       "      <th>IMDB Rating</th>\n",
       "      <th>Biography</th>\n",
       "      <th>Drama</th>\n",
       "      <th>Thriller</th>\n",
       "      <th>Comedy</th>\n",
       "      <th>Crime</th>\n",
       "      <th>Mystery</th>\n",
       "      <th>History</th>\n",
       "      <th>Label</th>\n",
       "    </tr>\n",
       "  </thead>\n",
       "  <tbody>\n",
       "    <tr>\n",
       "      <th>0</th>\n",
       "      <td>58</td>\n",
       "      <td>The Imitation Game</td>\n",
       "      <td>8.0</td>\n",
       "      <td>1</td>\n",
       "      <td>1</td>\n",
       "      <td>1</td>\n",
       "      <td>0</td>\n",
       "      <td>0</td>\n",
       "      <td>0</td>\n",
       "      <td>0</td>\n",
       "      <td>0</td>\n",
       "    </tr>\n",
       "    <tr>\n",
       "      <th>1</th>\n",
       "      <td>8</td>\n",
       "      <td>Ex Machina</td>\n",
       "      <td>7.7</td>\n",
       "      <td>0</td>\n",
       "      <td>1</td>\n",
       "      <td>0</td>\n",
       "      <td>0</td>\n",
       "      <td>0</td>\n",
       "      <td>1</td>\n",
       "      <td>0</td>\n",
       "      <td>0</td>\n",
       "    </tr>\n",
       "    <tr>\n",
       "      <th>2</th>\n",
       "      <td>46</td>\n",
       "      <td>A Beautiful Mind</td>\n",
       "      <td>8.2</td>\n",
       "      <td>1</td>\n",
       "      <td>1</td>\n",
       "      <td>0</td>\n",
       "      <td>0</td>\n",
       "      <td>0</td>\n",
       "      <td>0</td>\n",
       "      <td>0</td>\n",
       "      <td>0</td>\n",
       "    </tr>\n",
       "    <tr>\n",
       "      <th>3</th>\n",
       "      <td>62</td>\n",
       "      <td>Good Will Hunting</td>\n",
       "      <td>8.3</td>\n",
       "      <td>0</td>\n",
       "      <td>1</td>\n",
       "      <td>0</td>\n",
       "      <td>0</td>\n",
       "      <td>0</td>\n",
       "      <td>0</td>\n",
       "      <td>0</td>\n",
       "      <td>0</td>\n",
       "    </tr>\n",
       "    <tr>\n",
       "      <th>4</th>\n",
       "      <td>97</td>\n",
       "      <td>Forrest Gump</td>\n",
       "      <td>8.8</td>\n",
       "      <td>0</td>\n",
       "      <td>1</td>\n",
       "      <td>0</td>\n",
       "      <td>0</td>\n",
       "      <td>0</td>\n",
       "      <td>0</td>\n",
       "      <td>0</td>\n",
       "      <td>0</td>\n",
       "    </tr>\n",
       "  </tbody>\n",
       "</table>\n",
       "</div>"
      ],
      "text/plain": [
       "   Movie ID          Movie Name  IMDB Rating  Biography  Drama  Thriller  \\\n",
       "0        58  The Imitation Game          8.0          1      1         1   \n",
       "1         8          Ex Machina          7.7          0      1         0   \n",
       "2        46    A Beautiful Mind          8.2          1      1         0   \n",
       "3        62   Good Will Hunting          8.3          0      1         0   \n",
       "4        97        Forrest Gump          8.8          0      1         0   \n",
       "\n",
       "   Comedy  Crime  Mystery  History  Label  \n",
       "0       0      0        0        0      0  \n",
       "1       0      0        1        0      0  \n",
       "2       0      0        0        0      0  \n",
       "3       0      0        0        0      0  \n",
       "4       0      0        0        0      0  "
      ]
     },
     "execution_count": 20,
     "metadata": {},
     "output_type": "execute_result"
    }
   ],
   "source": [
    "movie = pd.read_csv('https://github.com/ArinB/CA05-kNN/raw/master/movies_recommendation_data.csv')\n",
    "movie.head()"
   ]
  },
  {
   "cell_type": "code",
   "execution_count": 21,
   "metadata": {},
   "outputs": [],
   "source": [
    "# get rid of unnecessary columns without destroying the original structure\n",
    "df = movie.copy()\n",
    "df.drop(['Movie ID', 'Movie Name', 'Label'], axis = 1,inplace = True)"
   ]
  },
  {
   "cell_type": "markdown",
   "metadata": {},
   "source": [
    "### Build the recommendation and show the result"
   ]
  },
  {
   "cell_type": "code",
   "execution_count": 22,
   "metadata": {},
   "outputs": [],
   "source": [
    "# The goal is to recommend five similiar movie, so the n_neighbors is 5\n",
    "nbrs = NearestNeighbors(n_neighbors=5, algorithm='kd_tree').fit(df)\n",
    "\n",
    "# Next we find k nearest neighbor for each point in df.\n",
    "distances, indices = nbrs.kneighbors(df)"
   ]
  },
  {
   "cell_type": "code",
   "execution_count": 23,
   "metadata": {},
   "outputs": [
    {
     "name": "stdout",
     "output_type": "stream",
     "text": [
      "[[ 0  2 16 29 28]\n",
      " [ 1  6 21 18 10]\n",
      " [ 2 16 29 27 28]\n",
      " [ 3 12  4  6 18]\n",
      " [ 4 12  3 15 17]\n",
      " [ 5 10  9 21 18]\n",
      " [ 6 18 21 10  9]\n",
      " [ 7 20 10  9 18]\n",
      " [ 8 22 24 14 19]\n",
      " [ 9 10 18 21  6]]\n"
     ]
    }
   ],
   "source": [
    "print(indices[:10])\n",
    "# The first number in each array is their index\n",
    "# Start from the second number would be their nearest neighbers' indices respectively"
   ]
  },
  {
   "cell_type": "code",
   "execution_count": 25,
   "metadata": {},
   "outputs": [],
   "source": [
    "# the function that could show 4 recommendations for each movie\n",
    "def all_recommend(movie_df):\n",
    "    mov_series = movie_df['Movie Name']\n",
    "    whole_recommend = []\n",
    "    for single_movie in indices:\n",
    "        recomm_movie = []\n",
    "        for recommend_indices in single_movie:\n",
    "            movie_name = mov_series.iloc[recommend_indices]\n",
    "            recomm_movie.append(movie_name)\n",
    "        whole_recommend.append(recomm_movie)\n",
    "    movie_dict = {}\n",
    "    for movie_i in whole_recommend:\n",
    "        movie = movie_i[0]\n",
    "        recommendation = movie_i[1:]\n",
    "        movie_dict[movie] = recommendation\n",
    "    recommend_df = pd.DataFrame(movie_dict).transpose().rename(columns={0:'1st recommendation',1:'2nd recommendation',\n",
    "                                                         2:'3rd recommendation',3:'4th recommendation'})\n",
    "    return recommend_df"
   ]
  },
  {
   "cell_type": "code",
   "execution_count": 28,
   "metadata": {},
   "outputs": [
    {
     "data": {
      "text/html": [
       "<div>\n",
       "<style scoped>\n",
       "    .dataframe tbody tr th:only-of-type {\n",
       "        vertical-align: middle;\n",
       "    }\n",
       "\n",
       "    .dataframe tbody tr th {\n",
       "        vertical-align: top;\n",
       "    }\n",
       "\n",
       "    .dataframe thead th {\n",
       "        text-align: right;\n",
       "    }\n",
       "</style>\n",
       "<table border=\"1\" class=\"dataframe\">\n",
       "  <thead>\n",
       "    <tr style=\"text-align: right;\">\n",
       "      <th></th>\n",
       "      <th>1st recommendation</th>\n",
       "      <th>2nd recommendation</th>\n",
       "      <th>3rd recommendation</th>\n",
       "      <th>4th recommendation</th>\n",
       "    </tr>\n",
       "  </thead>\n",
       "  <tbody>\n",
       "    <tr>\n",
       "      <th>The Imitation Game</th>\n",
       "      <td>A Beautiful Mind</td>\n",
       "      <td>The Wind Rises</td>\n",
       "      <td>Queen of Katwe</td>\n",
       "      <td>12 Years a Slave</td>\n",
       "    </tr>\n",
       "    <tr>\n",
       "      <th>Ex Machina</th>\n",
       "      <td>Gifted</td>\n",
       "      <td>Stand and Deliver</td>\n",
       "      <td>Finding Forrester</td>\n",
       "      <td>A Brilliant Young Mind</td>\n",
       "    </tr>\n",
       "    <tr>\n",
       "      <th>A Beautiful Mind</th>\n",
       "      <td>The Wind Rises</td>\n",
       "      <td>Queen of Katwe</td>\n",
       "      <td>Hacksaw Ridge</td>\n",
       "      <td>12 Years a Slave</td>\n",
       "    </tr>\n",
       "    <tr>\n",
       "      <th>Good Will Hunting</th>\n",
       "      <td>Interstellar</td>\n",
       "      <td>Forrest Gump</td>\n",
       "      <td>Gifted</td>\n",
       "      <td>Finding Forrester</td>\n",
       "    </tr>\n",
       "    <tr>\n",
       "      <th>Forrest Gump</th>\n",
       "      <td>Interstellar</td>\n",
       "      <td>Good Will Hunting</td>\n",
       "      <td>Inception</td>\n",
       "      <td>Spirited Away</td>\n",
       "    </tr>\n",
       "    <tr>\n",
       "      <th>21</th>\n",
       "      <td>A Brilliant Young Mind</td>\n",
       "      <td>The Karate Kid</td>\n",
       "      <td>Stand and Deliver</td>\n",
       "      <td>Finding Forrester</td>\n",
       "    </tr>\n",
       "    <tr>\n",
       "      <th>Gifted</th>\n",
       "      <td>Finding Forrester</td>\n",
       "      <td>Stand and Deliver</td>\n",
       "      <td>A Brilliant Young Mind</td>\n",
       "      <td>The Karate Kid</td>\n",
       "    </tr>\n",
       "    <tr>\n",
       "      <th>Travelling Salesman</th>\n",
       "      <td>The DaVinci Code</td>\n",
       "      <td>A Brilliant Young Mind</td>\n",
       "      <td>The Karate Kid</td>\n",
       "      <td>Finding Forrester</td>\n",
       "    </tr>\n",
       "    <tr>\n",
       "      <th>Avatar</th>\n",
       "      <td>The Terminator</td>\n",
       "      <td>The Avengers</td>\n",
       "      <td>Black Panther</td>\n",
       "      <td>The Fountain</td>\n",
       "    </tr>\n",
       "    <tr>\n",
       "      <th>The Karate Kid</th>\n",
       "      <td>A Brilliant Young Mind</td>\n",
       "      <td>Finding Forrester</td>\n",
       "      <td>Stand and Deliver</td>\n",
       "      <td>Gifted</td>\n",
       "    </tr>\n",
       "  </tbody>\n",
       "</table>\n",
       "</div>"
      ],
      "text/plain": [
       "                         1st recommendation      2nd recommendation  \\\n",
       "The Imitation Game         A Beautiful Mind          The Wind Rises   \n",
       "Ex Machina                           Gifted       Stand and Deliver   \n",
       "A Beautiful Mind             The Wind Rises          Queen of Katwe   \n",
       "Good Will Hunting              Interstellar            Forrest Gump   \n",
       "Forrest Gump                   Interstellar       Good Will Hunting   \n",
       "21                   A Brilliant Young Mind          The Karate Kid   \n",
       "Gifted                    Finding Forrester       Stand and Deliver   \n",
       "Travelling Salesman        The DaVinci Code  A Brilliant Young Mind   \n",
       "Avatar                       The Terminator            The Avengers   \n",
       "The Karate Kid       A Brilliant Young Mind       Finding Forrester   \n",
       "\n",
       "                         3rd recommendation      4th recommendation  \n",
       "The Imitation Game           Queen of Katwe        12 Years a Slave  \n",
       "Ex Machina                Finding Forrester  A Brilliant Young Mind  \n",
       "A Beautiful Mind              Hacksaw Ridge        12 Years a Slave  \n",
       "Good Will Hunting                    Gifted       Finding Forrester  \n",
       "Forrest Gump                      Inception           Spirited Away  \n",
       "21                        Stand and Deliver       Finding Forrester  \n",
       "Gifted               A Brilliant Young Mind          The Karate Kid  \n",
       "Travelling Salesman          The Karate Kid       Finding Forrester  \n",
       "Avatar                        Black Panther            The Fountain  \n",
       "The Karate Kid            Stand and Deliver                  Gifted  "
      ]
     },
     "execution_count": 28,
     "metadata": {},
     "output_type": "execute_result"
    }
   ],
   "source": [
    "all_recommend(movie).head(10)"
   ]
  },
  {
   "cell_type": "code",
   "execution_count": 312,
   "metadata": {},
   "outputs": [],
   "source": [
    "# This function could allow you to search movies' recommendation\n",
    "def search_recommend(movie_name):\n",
    "    df = all_recommend(movie)\n",
    "    return df.loc[movie_name,:]"
   ]
  },
  {
   "cell_type": "code",
   "execution_count": 317,
   "metadata": {},
   "outputs": [
    {
     "data": {
      "text/html": [
       "<div>\n",
       "<style scoped>\n",
       "    .dataframe tbody tr th:only-of-type {\n",
       "        vertical-align: middle;\n",
       "    }\n",
       "\n",
       "    .dataframe tbody tr th {\n",
       "        vertical-align: top;\n",
       "    }\n",
       "\n",
       "    .dataframe thead th {\n",
       "        text-align: right;\n",
       "    }\n",
       "</style>\n",
       "<table border=\"1\" class=\"dataframe\">\n",
       "  <thead>\n",
       "    <tr style=\"text-align: right;\">\n",
       "      <th></th>\n",
       "      <th>1st recommendation</th>\n",
       "      <th>2nd recommendation</th>\n",
       "      <th>3rd recommendation</th>\n",
       "      <th>4th recommendation</th>\n",
       "    </tr>\n",
       "  </thead>\n",
       "  <tbody>\n",
       "    <tr>\n",
       "      <th>The Imitation Game</th>\n",
       "      <td>A Beautiful Mind</td>\n",
       "      <td>The Wind Rises</td>\n",
       "      <td>Queen of Katwe</td>\n",
       "      <td>12 Years a Slave</td>\n",
       "    </tr>\n",
       "    <tr>\n",
       "      <th>Ex Machina</th>\n",
       "      <td>Gifted</td>\n",
       "      <td>Stand and Deliver</td>\n",
       "      <td>Finding Forrester</td>\n",
       "      <td>A Brilliant Young Mind</td>\n",
       "    </tr>\n",
       "  </tbody>\n",
       "</table>\n",
       "</div>"
      ],
      "text/plain": [
       "                   1st recommendation 2nd recommendation 3rd recommendation  \\\n",
       "The Imitation Game   A Beautiful Mind     The Wind Rises     Queen of Katwe   \n",
       "Ex Machina                     Gifted  Stand and Deliver  Finding Forrester   \n",
       "\n",
       "                        4th recommendation  \n",
       "The Imitation Game        12 Years a Slave  \n",
       "Ex Machina          A Brilliant Young Mind  "
      ]
     },
     "execution_count": 317,
     "metadata": {},
     "output_type": "execute_result"
    }
   ],
   "source": [
    "search_recommend(['The Imitation Game','Ex Machina'])"
   ]
  },
  {
   "cell_type": "markdown",
   "metadata": {},
   "source": [
    "### Recommendation for \"The Post\""
   ]
  },
  {
   "cell_type": "code",
   "execution_count": 164,
   "metadata": {},
   "outputs": [
    {
     "name": "stdout",
     "output_type": "stream",
     "text": [
      "[[28 27 29 16  2]]\n"
     ]
    }
   ],
   "source": [
    "the_post = [7.2, 1, 1, 0, 0, 0, 0, 1]\n",
    "distances_n, indices_n = nbrs.kneighbors([the_post])\n",
    "print(indices_n)\n",
    "# These are the five most nearest movies' indices\n",
    "# Different from the indices above that start from the second number\n",
    "# \"The Post\" is a new record that hasn't been trained in the fitted model\n",
    "# Therefore, the first number is the 1st recommendation in the model instead of its index"
   ]
  },
  {
   "cell_type": "code",
   "execution_count": 260,
   "metadata": {},
   "outputs": [],
   "source": [
    "def get_recommend(movie_feature_vector):       \n",
    "    mov_series = movie['Movie Name']\n",
    "    distances_n, indices_n = nbrs.kneighbors([movie_feature_vector])\n",
    "    recommend_movie = []\n",
    "    for i in indices_n[0]:\n",
    "        movie_name = mov_series.iloc[i]\n",
    "        recommend_movie.append(movie_name)\n",
    "    return recommend_movie"
   ]
  },
  {
   "cell_type": "code",
   "execution_count": 269,
   "metadata": {},
   "outputs": [
    {
     "data": {
      "text/plain": [
       "['12 Years a Slave',\n",
       " 'Hacksaw Ridge',\n",
       " 'Queen of Katwe',\n",
       " 'The Wind Rises',\n",
       " 'A Beautiful Mind']"
      ]
     },
     "execution_count": 269,
     "metadata": {},
     "output_type": "execute_result"
    }
   ],
   "source": [
    "get_recommend(the_post)"
   ]
  },
  {
   "cell_type": "code",
   "execution_count": 268,
   "metadata": {},
   "outputs": [
    {
     "name": "stdout",
     "output_type": "stream",
     "text": [
      "The 1 recommendation is 12 Years a Slave\n",
      "The 2 recommendation is Hacksaw Ridge\n",
      "The 3 recommendation is Queen of Katwe\n",
      "The 4 recommendation is The Wind Rises\n",
      "The 5 recommendation is A Beautiful Mind\n"
     ]
    }
   ],
   "source": [
    "for i,movie_n in enumerate(get_recommend(the_post)):\n",
    "    # make i = i+1 so the i could start from 1 instead of 0\n",
    "    i+=1\n",
    "    print('The {} recommendation is {}'.format(i,movie_n))\n"
   ]
  }
 ],
 "metadata": {
  "kernelspec": {
   "display_name": "Python 3",
   "language": "python",
   "name": "python3"
  },
  "language_info": {
   "codemirror_mode": {
    "name": "ipython",
    "version": 3
   },
   "file_extension": ".py",
   "mimetype": "text/x-python",
   "name": "python",
   "nbconvert_exporter": "python",
   "pygments_lexer": "ipython3",
   "version": "3.7.3"
  }
 },
 "nbformat": 4,
 "nbformat_minor": 2
}
